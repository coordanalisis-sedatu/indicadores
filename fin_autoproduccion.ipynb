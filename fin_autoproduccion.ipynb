{
 "cells": [
  {
   "cell_type": "code",
   "id": "initial_id",
   "metadata": {
    "collapsed": true,
    "ExecuteTime": {
     "end_time": "2024-05-31T00:19:36.861018Z",
     "start_time": "2024-05-31T00:19:36.843080Z"
    }
   },
   "source": [
    "    ##Borrar datos del entorno\n",
    "rm(list=ls())\n",
    "\n",
    "\n",
    "#Se utiliza pacman para instalar y cargar paquetes\n",
    "if(!require('pacman')) install.packages('pacman')\n",
    "pacman::p_load(tidyverse,janitor,httr,jsonlite,gt)\n"
   ],
   "outputs": [],
   "execution_count": 108
  },
  {
   "metadata": {
    "ExecuteTime": {
     "end_time": "2024-05-31T00:19:36.934899Z",
     "start_time": "2024-05-31T00:19:36.919745Z"
    }
   },
   "cell_type": "code",
   "source": [
    "#Función para consultar la api\n",
    "\n",
    "consulta_api<-function(url){\n",
    "  r <- GET(url, timeout(10000))\n",
    "  df <- fromJSON(rawToChar(r$content))\n",
    "  return(df)\n",
    "}"
   ],
   "id": "81e4e21311f63174",
   "outputs": [],
   "execution_count": 109
  },
  {
   "metadata": {},
   "cell_type": "markdown",
   "source": [
    "# Obtener datos de autoproducción por ONAVI\n",
    "\n",
    "\n",
    "### SHF"
   ],
   "id": "425ad28a13537df4"
  },
  {
   "metadata": {
    "ExecuteTime": {
     "end_time": "2024-05-31T00:19:36.976816Z",
     "start_time": "2024-05-31T00:19:36.963301Z"
    }
   },
   "cell_type": "code",
   "source": "url=\"https://sniiv.sedatu.gob.mx/api/CuboAPI/GetFinanciamiento/2024,2024/0/0/organismo,modalidad,destino_credito,anio,mes,rango_edad,genero\"\n",
   "id": "60c30bb51954d0ca",
   "outputs": [],
   "execution_count": 110
  },
  {
   "metadata": {
    "ExecuteTime": {
     "end_time": "2024-05-31T00:19:38.078178Z",
     "start_time": "2024-05-31T00:19:37.007291Z"
    }
   },
   "cell_type": "code",
   "source": [
    "finan_gral<-consulta_api(url)%>%\n",
    "arrange(año)\n",
    "str(finan_gral)"
   ],
   "id": "c82479f6616873c5",
   "outputs": [
    {
     "name": "stdout",
     "output_type": "stream",
     "text": [
      "'data.frame':\t323 obs. of  9 variables:\n",
      " $ año            : int  2024 2024 2024 2024 2024 2024 2024 2024 2024 2024 ...\n",
      " $ mes            : chr  \"enero\" \"enero\" \"enero\" \"enero\" ...\n",
      " $ organismo      : chr  \"FOVISSSTE\" \"FOVISSSTE\" \"FOVISSSTE\" \"FOVISSSTE\" ...\n",
      " $ modalidad      : chr  \"Viviendas nuevas\" \"Viviendas nuevas\" \"Viviendas nuevas\" \"Viviendas nuevas\" ...\n",
      " $ destino_credito: chr  \"Vivienda nueva\" \"Vivienda nueva\" \"Vivienda nueva\" \"Vivienda nueva\" ...\n",
      " $ sexo           : chr  \"Hombre\" \"Mujer\" \"Hombre\" \"Mujer\" ...\n",
      " $ grupo_edad     : chr  \"29 o menos\" \"29 o menos\" \"30 a 59\" \"30 a 59\" ...\n",
      " $ acciones       : int  42 77 367 510 42 24 43 86 408 506 ...\n",
      " $ monto          : num  3.70e+07 5.67e+07 3.34e+08 4.39e+08 4.07e+07 ...\n"
     ]
    }
   ],
   "execution_count": 111
  },
  {
   "metadata": {
    "ExecuteTime": {
     "end_time": "2024-05-31T00:19:38.135803Z",
     "start_time": "2024-05-31T00:19:38.082653Z"
    }
   },
   "cell_type": "code",
   "source": [
    "shf <- finan_gral %>%\n",
    "  filter(organismo == \"SHF (FONDEO)\" &\n",
    "         destino_credito %in% c(\"Autoproducción\", \"Ampliación\", \"Reconstrucción\", \"Mejoramientos\"))%>%\n",
    "group_by(año,organismo, grupo_edad,sexo,modalidad)%>%\n",
    "summarise(creditos=sum(acciones),monto=sum(monto))\n",
    "head(shf,5)"
   ],
   "id": "15d07306a5a760b6",
   "outputs": [
    {
     "name": "stderr",
     "output_type": "stream",
     "text": [
      "\u001B[1m\u001B[22m`summarise()` has grouped output by 'año', 'organismo', 'grupo_edad', 'sexo'.\n",
      "You can override using the `.groups` argument.\n"
     ]
    },
    {
     "data": {
      "text/html": [
       "<table class=\"dataframe\">\n",
       "<caption>A grouped_df: 3 × 7</caption>\n",
       "<thead>\n",
       "\t<tr><th scope=col>año</th><th scope=col>organismo</th><th scope=col>grupo_edad</th><th scope=col>sexo</th><th scope=col>modalidad</th><th scope=col>creditos</th><th scope=col>monto</th></tr>\n",
       "\t<tr><th scope=col>&lt;int&gt;</th><th scope=col>&lt;chr&gt;</th><th scope=col>&lt;chr&gt;</th><th scope=col>&lt;chr&gt;</th><th scope=col>&lt;chr&gt;</th><th scope=col>&lt;int&gt;</th><th scope=col>&lt;dbl&gt;</th></tr>\n",
       "</thead>\n",
       "<tbody>\n",
       "\t<tr><td>2024</td><td>SHF (FONDEO)</td><td>29 o menos   </td><td>Hombre       </td><td>Mejoramientos</td><td>3668</td><td>        0</td></tr>\n",
       "\t<tr><td>2024</td><td>SHF (FONDEO)</td><td>29 o menos   </td><td>Mujer        </td><td>Mejoramientos</td><td>7050</td><td>        0</td></tr>\n",
       "\t<tr><td>2024</td><td>SHF (FONDEO)</td><td>No disponible</td><td>No disponible</td><td>Mejoramientos</td><td>   0</td><td>516392359</td></tr>\n",
       "</tbody>\n",
       "</table>\n"
      ],
      "text/markdown": "\nA grouped_df: 3 × 7\n\n| año &lt;int&gt; | organismo &lt;chr&gt; | grupo_edad &lt;chr&gt; | sexo &lt;chr&gt; | modalidad &lt;chr&gt; | creditos &lt;int&gt; | monto &lt;dbl&gt; |\n|---|---|---|---|---|---|---|\n| 2024 | SHF (FONDEO) | 29 o menos    | Hombre        | Mejoramientos | 3668 |         0 |\n| 2024 | SHF (FONDEO) | 29 o menos    | Mujer         | Mejoramientos | 7050 |         0 |\n| 2024 | SHF (FONDEO) | No disponible | No disponible | Mejoramientos |    0 | 516392359 |\n\n",
      "text/latex": "A grouped\\_df: 3 × 7\n\\begin{tabular}{lllllll}\n año & organismo & grupo\\_edad & sexo & modalidad & creditos & monto\\\\\n <int> & <chr> & <chr> & <chr> & <chr> & <int> & <dbl>\\\\\n\\hline\n\t 2024 & SHF (FONDEO) & 29 o menos    & Hombre        & Mejoramientos & 3668 &         0\\\\\n\t 2024 & SHF (FONDEO) & 29 o menos    & Mujer         & Mejoramientos & 7050 &         0\\\\\n\t 2024 & SHF (FONDEO) & No disponible & No disponible & Mejoramientos &    0 & 516392359\\\\\n\\end{tabular}\n",
      "text/plain": [
       "  año  organismo    grupo_edad    sexo          modalidad     creditos\n",
       "1 2024 SHF (FONDEO) 29 o menos    Hombre        Mejoramientos 3668    \n",
       "2 2024 SHF (FONDEO) 29 o menos    Mujer         Mejoramientos 7050    \n",
       "3 2024 SHF (FONDEO) No disponible No disponible Mejoramientos    0    \n",
       "  monto    \n",
       "1         0\n",
       "2         0\n",
       "3 516392359"
      ]
     },
     "metadata": {},
     "output_type": "display_data"
    }
   ],
   "execution_count": 112
  },
  {
   "metadata": {},
   "cell_type": "markdown",
   "source": "### Fovissste",
   "id": "1971c4850e73c587"
  },
  {
   "metadata": {
    "ExecuteTime": {
     "end_time": "2024-05-31T00:19:38.185909Z",
     "start_time": "2024-05-31T00:19:38.140688Z"
    }
   },
   "cell_type": "code",
   "source": [
    "fovissste<-finan_gral%>%\n",
    "filter(organismo==\"FOVISSSTE\" &\n",
    "       destino_credito %in% c(\"Con disponibilidad de terreno\"))%>%\n",
    "group_by(año,organismo, grupo_edad,sexo,modalidad)%>%\n",
    "summarise(creditos=sum(acciones),monto=sum(monto))\n",
    "head(fovissste,5)"
   ],
   "id": "e3a38cc521c898fc",
   "outputs": [
    {
     "name": "stderr",
     "output_type": "stream",
     "text": [
      "\u001B[1m\u001B[22m`summarise()` has grouped output by 'año', 'organismo', 'grupo_edad', 'sexo'.\n",
      "You can override using the `.groups` argument.\n"
     ]
    },
    {
     "data": {
      "text/html": [
       "<table class=\"dataframe\">\n",
       "<caption>A grouped_df: 5 × 7</caption>\n",
       "<thead>\n",
       "\t<tr><th scope=col>año</th><th scope=col>organismo</th><th scope=col>grupo_edad</th><th scope=col>sexo</th><th scope=col>modalidad</th><th scope=col>creditos</th><th scope=col>monto</th></tr>\n",
       "\t<tr><th scope=col>&lt;int&gt;</th><th scope=col>&lt;chr&gt;</th><th scope=col>&lt;chr&gt;</th><th scope=col>&lt;chr&gt;</th><th scope=col>&lt;chr&gt;</th><th scope=col>&lt;int&gt;</th><th scope=col>&lt;dbl&gt;</th></tr>\n",
       "</thead>\n",
       "<tbody>\n",
       "\t<tr><td>2024</td><td>FOVISSSTE</td><td>29 o menos</td><td>Hombre</td><td>Viviendas nuevas</td><td> 2</td><td> 1372342</td></tr>\n",
       "\t<tr><td>2024</td><td>FOVISSSTE</td><td>29 o menos</td><td>Mujer </td><td>Viviendas nuevas</td><td> 1</td><td> 1377500</td></tr>\n",
       "\t<tr><td>2024</td><td>FOVISSSTE</td><td>30 a 59   </td><td>Hombre</td><td>Viviendas nuevas</td><td>12</td><td>12336102</td></tr>\n",
       "\t<tr><td>2024</td><td>FOVISSSTE</td><td>30 a 59   </td><td>Mujer </td><td>Viviendas nuevas</td><td>39</td><td>35481642</td></tr>\n",
       "\t<tr><td>2024</td><td>FOVISSSTE</td><td>60 o más  </td><td>Hombre</td><td>Viviendas nuevas</td><td> 1</td><td> 2095448</td></tr>\n",
       "</tbody>\n",
       "</table>\n"
      ],
      "text/markdown": "\nA grouped_df: 5 × 7\n\n| año &lt;int&gt; | organismo &lt;chr&gt; | grupo_edad &lt;chr&gt; | sexo &lt;chr&gt; | modalidad &lt;chr&gt; | creditos &lt;int&gt; | monto &lt;dbl&gt; |\n|---|---|---|---|---|---|---|\n| 2024 | FOVISSSTE | 29 o menos | Hombre | Viviendas nuevas |  2 |  1372342 |\n| 2024 | FOVISSSTE | 29 o menos | Mujer  | Viviendas nuevas |  1 |  1377500 |\n| 2024 | FOVISSSTE | 30 a 59    | Hombre | Viviendas nuevas | 12 | 12336102 |\n| 2024 | FOVISSSTE | 30 a 59    | Mujer  | Viviendas nuevas | 39 | 35481642 |\n| 2024 | FOVISSSTE | 60 o más   | Hombre | Viviendas nuevas |  1 |  2095448 |\n\n",
      "text/latex": "A grouped\\_df: 5 × 7\n\\begin{tabular}{lllllll}\n año & organismo & grupo\\_edad & sexo & modalidad & creditos & monto\\\\\n <int> & <chr> & <chr> & <chr> & <chr> & <int> & <dbl>\\\\\n\\hline\n\t 2024 & FOVISSSTE & 29 o menos & Hombre & Viviendas nuevas &  2 &  1372342\\\\\n\t 2024 & FOVISSSTE & 29 o menos & Mujer  & Viviendas nuevas &  1 &  1377500\\\\\n\t 2024 & FOVISSSTE & 30 a 59    & Hombre & Viviendas nuevas & 12 & 12336102\\\\\n\t 2024 & FOVISSSTE & 30 a 59    & Mujer  & Viviendas nuevas & 39 & 35481642\\\\\n\t 2024 & FOVISSSTE & 60 o más   & Hombre & Viviendas nuevas &  1 &  2095448\\\\\n\\end{tabular}\n",
      "text/plain": [
       "  año  organismo grupo_edad sexo   modalidad        creditos monto   \n",
       "1 2024 FOVISSSTE 29 o menos Hombre Viviendas nuevas  2        1372342\n",
       "2 2024 FOVISSSTE 29 o menos Mujer  Viviendas nuevas  1        1377500\n",
       "3 2024 FOVISSSTE 30 a 59    Hombre Viviendas nuevas 12       12336102\n",
       "4 2024 FOVISSSTE 30 a 59    Mujer  Viviendas nuevas 39       35481642\n",
       "5 2024 FOVISSSTE 60 o más   Hombre Viviendas nuevas  1        2095448"
      ]
     },
     "metadata": {},
     "output_type": "display_data"
    }
   ],
   "execution_count": 113
  },
  {
   "metadata": {},
   "cell_type": "markdown",
   "source": "### Infonavit   ",
   "id": "d4be1dbbeffbcc17"
  },
  {
   "metadata": {
    "ExecuteTime": {
     "end_time": "2024-05-31T00:19:38.204710Z",
     "start_time": "2024-05-31T00:19:38.190763Z"
    }
   },
   "cell_type": "code",
   "source": "url_infonavit<-\"https://qa-sniiv.sedatu.gob.mx/api/CuboAPI/GetINFONAVIT/2024,2024/0/0/anio,linea_credito,modalidad,genero,rango_edad\"",
   "id": "9741b868a75991b",
   "outputs": [],
   "execution_count": 114
  },
  {
   "metadata": {
    "ExecuteTime": {
     "end_time": "2024-05-31T00:19:38.667963Z",
     "start_time": "2024-05-31T00:19:38.209054Z"
    }
   },
   "cell_type": "code",
   "source": [
    "bdinfonavit<-consulta_api(url_infonavit)%>%\n",
    "arrange(año)"
   ],
   "id": "d269bb6254944ae3",
   "outputs": [],
   "execution_count": 115
  },
  {
   "metadata": {
    "ExecuteTime": {
     "end_time": "2024-05-31T00:19:38.728184Z",
     "start_time": "2024-05-31T00:19:38.674566Z"
    }
   },
   "cell_type": "code",
   "source": [
    "infonavit<-bdinfonavit%>%\n",
    "filter(linea_credito %in% c(\"Linea II\", \"Linea III\",\"Linea IV\"))%>%\n",
    "filter(modalidad %in% c(\"Adquisicion de suelo\", \"Ampliación y rehabilitación\",\"Autoconstrucción\",\"Con disponibilidad de terreno\"))%>%\n",
    "group_by(año,grupo_edad,sexo,modalidad)%>%\n",
    "summarise(creditos=sum(acciones),monto=sum(monto))%>%\n",
    "mutate(organismo=\"INFONAVIT\")\n",
    "head(infonavit,5)"
   ],
   "id": "3952942c96ae3c44",
   "outputs": [
    {
     "name": "stderr",
     "output_type": "stream",
     "text": [
      "\u001B[1m\u001B[22m`summarise()` has grouped output by 'año', 'grupo_edad', 'sexo'. You can\n",
      "override using the `.groups` argument.\n"
     ]
    },
    {
     "data": {
      "text/html": [
       "<table class=\"dataframe\">\n",
       "<caption>A grouped_df: 5 × 7</caption>\n",
       "<thead>\n",
       "\t<tr><th scope=col>año</th><th scope=col>grupo_edad</th><th scope=col>sexo</th><th scope=col>modalidad</th><th scope=col>creditos</th><th scope=col>monto</th><th scope=col>organismo</th></tr>\n",
       "\t<tr><th scope=col>&lt;int&gt;</th><th scope=col>&lt;chr&gt;</th><th scope=col>&lt;chr&gt;</th><th scope=col>&lt;chr&gt;</th><th scope=col>&lt;int&gt;</th><th scope=col>&lt;dbl&gt;</th><th scope=col>&lt;chr&gt;</th></tr>\n",
       "</thead>\n",
       "<tbody>\n",
       "\t<tr><td>2024</td><td>29 o menos</td><td>Hombre</td><td>Ampliación y rehabilitación  </td><td>4533</td><td> 11089842</td><td>INFONAVIT</td></tr>\n",
       "\t<tr><td>2024</td><td>29 o menos</td><td>Hombre</td><td>Autoconstrucción             </td><td>   2</td><td>        0</td><td>INFONAVIT</td></tr>\n",
       "\t<tr><td>2024</td><td>29 o menos</td><td>Hombre</td><td>Con disponibilidad de terreno</td><td> 672</td><td>400450606</td><td>INFONAVIT</td></tr>\n",
       "\t<tr><td>2024</td><td>29 o menos</td><td>Mujer </td><td>Ampliación y rehabilitación  </td><td>1733</td><td>  7947528</td><td>INFONAVIT</td></tr>\n",
       "\t<tr><td>2024</td><td>29 o menos</td><td>Mujer </td><td>Autoconstrucción             </td><td>   4</td><td>        0</td><td>INFONAVIT</td></tr>\n",
       "</tbody>\n",
       "</table>\n"
      ],
      "text/markdown": "\nA grouped_df: 5 × 7\n\n| año &lt;int&gt; | grupo_edad &lt;chr&gt; | sexo &lt;chr&gt; | modalidad &lt;chr&gt; | creditos &lt;int&gt; | monto &lt;dbl&gt; | organismo &lt;chr&gt; |\n|---|---|---|---|---|---|---|\n| 2024 | 29 o menos | Hombre | Ampliación y rehabilitación   | 4533 |  11089842 | INFONAVIT |\n| 2024 | 29 o menos | Hombre | Autoconstrucción              |    2 |         0 | INFONAVIT |\n| 2024 | 29 o menos | Hombre | Con disponibilidad de terreno |  672 | 400450606 | INFONAVIT |\n| 2024 | 29 o menos | Mujer  | Ampliación y rehabilitación   | 1733 |   7947528 | INFONAVIT |\n| 2024 | 29 o menos | Mujer  | Autoconstrucción              |    4 |         0 | INFONAVIT |\n\n",
      "text/latex": "A grouped\\_df: 5 × 7\n\\begin{tabular}{lllllll}\n año & grupo\\_edad & sexo & modalidad & creditos & monto & organismo\\\\\n <int> & <chr> & <chr> & <chr> & <int> & <dbl> & <chr>\\\\\n\\hline\n\t 2024 & 29 o menos & Hombre & Ampliación y rehabilitación   & 4533 &  11089842 & INFONAVIT\\\\\n\t 2024 & 29 o menos & Hombre & Autoconstrucción              &    2 &         0 & INFONAVIT\\\\\n\t 2024 & 29 o menos & Hombre & Con disponibilidad de terreno &  672 & 400450606 & INFONAVIT\\\\\n\t 2024 & 29 o menos & Mujer  & Ampliación y rehabilitación   & 1733 &   7947528 & INFONAVIT\\\\\n\t 2024 & 29 o menos & Mujer  & Autoconstrucción              &    4 &         0 & INFONAVIT\\\\\n\\end{tabular}\n",
      "text/plain": [
       "  año  grupo_edad sexo   modalidad                     creditos monto    \n",
       "1 2024 29 o menos Hombre Ampliación y rehabilitación   4533      11089842\n",
       "2 2024 29 o menos Hombre Autoconstrucción                 2             0\n",
       "3 2024 29 o menos Hombre Con disponibilidad de terreno  672     400450606\n",
       "4 2024 29 o menos Mujer  Ampliación y rehabilitación   1733       7947528\n",
       "5 2024 29 o menos Mujer  Autoconstrucción                 4             0\n",
       "  organismo\n",
       "1 INFONAVIT\n",
       "2 INFONAVIT\n",
       "3 INFONAVIT\n",
       "4 INFONAVIT\n",
       "5 INFONAVIT"
      ]
     },
     "metadata": {},
     "output_type": "display_data"
    }
   ],
   "execution_count": 116
  },
  {
   "metadata": {},
   "cell_type": "markdown",
   "source": "### Conavi",
   "id": "e09f67df23f9742e"
  },
  {
   "metadata": {
    "ExecuteTime": {
     "end_time": "2024-05-31T00:19:38.747345Z",
     "start_time": "2024-05-31T00:19:38.733047Z"
    }
   },
   "cell_type": "code",
   "source": "url_conavi<-\"https://qa-sniiv.sedatu.gob.mx/api/CuboAPI/GetCONAVI/2024,2024/0/0/modalidad,anio,mes,genero,rango_edad\"",
   "id": "5d340dd35a3d9214",
   "outputs": [],
   "execution_count": 117
  },
  {
   "metadata": {
    "ExecuteTime": {
     "end_time": "2024-05-31T00:19:38.944591Z",
     "start_time": "2024-05-31T00:19:38.752032Z"
    }
   },
   "cell_type": "code",
   "source": [
    "bdconavi<-consulta_api(url_conavi)%>%\n",
    "filter(mes!=\"abril\")%>%\n",
    "arrange(año)"
   ],
   "id": "f4e74fd5ef6f6bee",
   "outputs": [],
   "execution_count": 118
  },
  {
   "metadata": {
    "ExecuteTime": {
     "end_time": "2024-05-31T00:19:38.995935Z",
     "start_time": "2024-05-31T00:19:38.951261Z"
    }
   },
   "cell_type": "code",
   "source": [
    "conavi<-bdconavi%>%\n",
    "filter(modalidad %in% c(\"Autoproducción\", \"Autoconstrucción\", \"Ampliación\", \"Mejoramiento\",\"Reconstrucción\",\"Vivienda existente\"))%>%\n",
    "group_by(año,grupo_edad,sexo,modalidad)%>%\n",
    "\n",
    "summarise(creditos=sum(acciones),monto=sum(monto))%>%\n",
    "mutate(organismo=\"CONAVI\")\n",
    "\n",
    "\n",
    "conavi"
   ],
   "id": "28aa4b38a4d3af10",
   "outputs": [
    {
     "name": "stderr",
     "output_type": "stream",
     "text": [
      "\u001B[1m\u001B[22m`summarise()` has grouped output by 'año', 'grupo_edad', 'sexo'. You can\n",
      "override using the `.groups` argument.\n"
     ]
    },
    {
     "data": {
      "text/html": [
       "<table class=\"dataframe\">\n",
       "<caption>A grouped_df: 6 × 7</caption>\n",
       "<thead>\n",
       "\t<tr><th scope=col>año</th><th scope=col>grupo_edad</th><th scope=col>sexo</th><th scope=col>modalidad</th><th scope=col>creditos</th><th scope=col>monto</th><th scope=col>organismo</th></tr>\n",
       "\t<tr><th scope=col>&lt;int&gt;</th><th scope=col>&lt;chr&gt;</th><th scope=col>&lt;chr&gt;</th><th scope=col>&lt;chr&gt;</th><th scope=col>&lt;int&gt;</th><th scope=col>&lt;dbl&gt;</th><th scope=col>&lt;chr&gt;</th></tr>\n",
       "</thead>\n",
       "<tbody>\n",
       "\t<tr><td>2024</td><td>29 o menos</td><td>Hombre</td><td>Mejoramiento</td><td> 2610</td><td> 91350000</td><td>CONAVI</td></tr>\n",
       "\t<tr><td>2024</td><td>29 o menos</td><td>Mujer </td><td>Mejoramiento</td><td> 6159</td><td>215565000</td><td>CONAVI</td></tr>\n",
       "\t<tr><td>2024</td><td>30 a 59   </td><td>Hombre</td><td>Mejoramiento</td><td>15628</td><td>546980000</td><td>CONAVI</td></tr>\n",
       "\t<tr><td>2024</td><td>30 a 59   </td><td>Mujer </td><td>Mejoramiento</td><td>27627</td><td>966945000</td><td>CONAVI</td></tr>\n",
       "\t<tr><td>2024</td><td>60 o más  </td><td>Hombre</td><td>Mejoramiento</td><td> 9116</td><td>319060000</td><td>CONAVI</td></tr>\n",
       "\t<tr><td>2024</td><td>60 o más  </td><td>Mujer </td><td>Mejoramiento</td><td> 9480</td><td>331800000</td><td>CONAVI</td></tr>\n",
       "</tbody>\n",
       "</table>\n"
      ],
      "text/markdown": "\nA grouped_df: 6 × 7\n\n| año &lt;int&gt; | grupo_edad &lt;chr&gt; | sexo &lt;chr&gt; | modalidad &lt;chr&gt; | creditos &lt;int&gt; | monto &lt;dbl&gt; | organismo &lt;chr&gt; |\n|---|---|---|---|---|---|---|\n| 2024 | 29 o menos | Hombre | Mejoramiento |  2610 |  91350000 | CONAVI |\n| 2024 | 29 o menos | Mujer  | Mejoramiento |  6159 | 215565000 | CONAVI |\n| 2024 | 30 a 59    | Hombre | Mejoramiento | 15628 | 546980000 | CONAVI |\n| 2024 | 30 a 59    | Mujer  | Mejoramiento | 27627 | 966945000 | CONAVI |\n| 2024 | 60 o más   | Hombre | Mejoramiento |  9116 | 319060000 | CONAVI |\n| 2024 | 60 o más   | Mujer  | Mejoramiento |  9480 | 331800000 | CONAVI |\n\n",
      "text/latex": "A grouped\\_df: 6 × 7\n\\begin{tabular}{lllllll}\n año & grupo\\_edad & sexo & modalidad & creditos & monto & organismo\\\\\n <int> & <chr> & <chr> & <chr> & <int> & <dbl> & <chr>\\\\\n\\hline\n\t 2024 & 29 o menos & Hombre & Mejoramiento &  2610 &  91350000 & CONAVI\\\\\n\t 2024 & 29 o menos & Mujer  & Mejoramiento &  6159 & 215565000 & CONAVI\\\\\n\t 2024 & 30 a 59    & Hombre & Mejoramiento & 15628 & 546980000 & CONAVI\\\\\n\t 2024 & 30 a 59    & Mujer  & Mejoramiento & 27627 & 966945000 & CONAVI\\\\\n\t 2024 & 60 o más   & Hombre & Mejoramiento &  9116 & 319060000 & CONAVI\\\\\n\t 2024 & 60 o más   & Mujer  & Mejoramiento &  9480 & 331800000 & CONAVI\\\\\n\\end{tabular}\n",
      "text/plain": [
       "  año  grupo_edad sexo   modalidad    creditos monto     organismo\n",
       "1 2024 29 o menos Hombre Mejoramiento  2610     91350000 CONAVI   \n",
       "2 2024 29 o menos Mujer  Mejoramiento  6159    215565000 CONAVI   \n",
       "3 2024 30 a 59    Hombre Mejoramiento 15628    546980000 CONAVI   \n",
       "4 2024 30 a 59    Mujer  Mejoramiento 27627    966945000 CONAVI   \n",
       "5 2024 60 o más   Hombre Mejoramiento  9116    319060000 CONAVI   \n",
       "6 2024 60 o más   Mujer  Mejoramiento  9480    331800000 CONAVI   "
      ]
     },
     "metadata": {},
     "output_type": "display_data"
    }
   ],
   "execution_count": 119
  },
  {
   "metadata": {
    "ExecuteTime": {
     "end_time": "2024-05-31T00:20:24.420017Z",
     "start_time": "2024-05-31T00:20:24.287219Z"
    }
   },
   "cell_type": "code",
   "source": [
    "autoproduccion<-bind_rows(shf,fovissste,infonavit,conavi)\n",
    "print(sprintf(\"Total de financiamientos para autoproducción: %s\", format(sum(autoproduccion$creditos), big.mark = \",\")))\n",
    "#Guardar datos en excel\n",
    "openxlsx::write.xlsx(autoproduccion,\"autoproduccion_1T_2024.xlsx\")"
   ],
   "id": "3564c4a716a0eae3",
   "outputs": [
    {
     "name": "stdout",
     "output_type": "stream",
     "text": [
      "[1] \"Total de financiamientos para autoproducción: 134,181\"\n"
     ]
    }
   ],
   "execution_count": 122
  }
 ],
 "metadata": {
  "kernelspec": {
   "display_name": "R",
   "language": "R",
   "name": "ir"
  },
  "language_info": {
   "codemirror_mode": {
    "name": "ipython",
    "version": 2
   },
   "file_extension": ".py",
   "mimetype": "text/x-python",
   "name": "python",
   "nbconvert_exporter": "python",
   "pygments_lexer": "ipython2",
   "version": "2.7.6"
  }
 },
 "nbformat": 4,
 "nbformat_minor": 5
}
