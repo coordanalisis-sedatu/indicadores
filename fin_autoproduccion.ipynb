{
 "cells": [
  {
   "cell_type": "code",
   "id": "initial_id",
   "metadata": {
    "collapsed": true,
    "ExecuteTime": {
     "end_time": "2024-05-31T04:30:27.475539Z",
     "start_time": "2024-05-31T04:30:26.912044Z"
    }
   },
   "source": [
    "    ##Borrar datos del entorno\n",
    "rm(list=ls())\n",
    "\n",
    "\n",
    "#Se utiliza pacman para instalar y cargar paquetes\n",
    "if(!require('pacman')) install.packages('pacman')\n",
    "pacman::p_load(tidyverse,janitor,httr,jsonlite,gt,sf,rmapshaper,showtext)\n",
    "font_add_google(\"Poppins\", \"pop\")\n",
    "showtext_auto()\n"
   ],
   "outputs": [],
   "execution_count": 47
  },
  {
   "metadata": {
    "ExecuteTime": {
     "end_time": "2024-05-31T04:30:27.489782Z",
     "start_time": "2024-05-31T04:30:27.478949Z"
    }
   },
   "cell_type": "code",
   "source": [
    "#Función para consultar la api\n",
    "\n",
    "consulta_api<-function(url){\n",
    "  r <- GET(url, timeout(10000))\n",
    "  df <- fromJSON(rawToChar(r$content))\n",
    "  return(df)\n",
    "}"
   ],
   "id": "81e4e21311f63174",
   "outputs": [],
   "execution_count": 48
  },
  {
   "metadata": {},
   "cell_type": "markdown",
   "source": [
    "# Obtener datos de autoproducción por ONAVI\n",
    "\n",
    "\n",
    "### SHF"
   ],
   "id": "425ad28a13537df4"
  },
  {
   "metadata": {
    "ExecuteTime": {
     "end_time": "2024-05-31T04:30:27.504895Z",
     "start_time": "2024-05-31T04:30:27.493669Z"
    }
   },
   "cell_type": "code",
   "source": "url=\"https://sniiv.sedatu.gob.mx/api/CuboAPI/GetFinanciamiento/2024,2024/0/0/organismo,modalidad,destino_credito,anio,mes,rango_edad,genero,estado\"\n",
   "id": "60c30bb51954d0ca",
   "outputs": [],
   "execution_count": 49
  },
  {
   "metadata": {
    "ExecuteTime": {
     "end_time": "2024-05-31T04:30:31.753807Z",
     "start_time": "2024-05-31T04:30:27.508419Z"
    }
   },
   "cell_type": "code",
   "source": [
    "finan_gral<-consulta_api(url)%>%\n",
    "arrange(año)\n",
    "str(finan_gral)"
   ],
   "id": "c82479f6616873c5",
   "outputs": [
    {
     "name": "stdout",
     "output_type": "stream",
     "text": [
      "'data.frame':\t5244 obs. of  10 variables:\n",
      " $ año            : int  2024 2024 2024 2024 2024 2024 2024 2024 2024 2024 ...\n",
      " $ mes            : chr  \"enero\" \"enero\" \"enero\" \"enero\" ...\n",
      " $ estado         : chr  \"Aguascalientes\" \"Baja California\" \"Chiapas\" \"Chihuahua\" ...\n",
      " $ organismo      : chr  \"FOVISSSTE\" \"FOVISSSTE\" \"FOVISSSTE\" \"FOVISSSTE\" ...\n",
      " $ modalidad      : chr  \"Viviendas nuevas\" \"Viviendas nuevas\" \"Viviendas nuevas\" \"Viviendas nuevas\" ...\n",
      " $ destino_credito: chr  \"Vivienda nueva\" \"Vivienda nueva\" \"Vivienda nueva\" \"Vivienda nueva\" ...\n",
      " $ sexo           : chr  \"Hombre\" \"Hombre\" \"Hombre\" \"Hombre\" ...\n",
      " $ grupo_edad     : chr  \"29 o menos\" \"29 o menos\" \"29 o menos\" \"29 o menos\" ...\n",
      " $ acciones       : int  4 1 1 1 1 1 1 1 4 1 ...\n",
      " $ monto          : num  2760000 1380343 775000 1210000 1394519 ...\n"
     ]
    }
   ],
   "execution_count": 50
  },
  {
   "metadata": {
    "ExecuteTime": {
     "end_time": "2024-05-31T04:30:31.793199Z",
     "start_time": "2024-05-31T04:30:31.757375Z"
    }
   },
   "cell_type": "code",
   "source": [
    "shf <- finan_gral %>%\n",
    "  filter(organismo == \"SHF (FONDEO)\" &\n",
    "         destino_credito %in% c(\"Autoproducción\", \"Ampliación\", \"Reconstrucción\", \"Mejoramientos\"))%>%\n",
    "group_by(año,organismo, grupo_edad,sexo,modalidad,estado)%>%\n",
    "summarise(creditos=sum(acciones),monto=sum(monto))\n",
    "head(shf,5)"
   ],
   "id": "15d07306a5a760b6",
   "outputs": [
    {
     "name": "stderr",
     "output_type": "stream",
     "text": [
      "\u001B[1m\u001B[22m`summarise()` has grouped output by 'año', 'organismo', 'grupo_edad', 'sexo',\n",
      "'modalidad'. You can override using the `.groups` argument.\n"
     ]
    },
    {
     "data": {
      "text/html": [
       "<table class=\"dataframe\">\n",
       "<caption>A grouped_df: 5 × 8</caption>\n",
       "<thead>\n",
       "\t<tr><th scope=col>año</th><th scope=col>organismo</th><th scope=col>grupo_edad</th><th scope=col>sexo</th><th scope=col>modalidad</th><th scope=col>estado</th><th scope=col>creditos</th><th scope=col>monto</th></tr>\n",
       "\t<tr><th scope=col>&lt;int&gt;</th><th scope=col>&lt;chr&gt;</th><th scope=col>&lt;chr&gt;</th><th scope=col>&lt;chr&gt;</th><th scope=col>&lt;chr&gt;</th><th scope=col>&lt;chr&gt;</th><th scope=col>&lt;int&gt;</th><th scope=col>&lt;dbl&gt;</th></tr>\n",
       "</thead>\n",
       "<tbody>\n",
       "\t<tr><td>2024</td><td>SHF (FONDEO)</td><td>29 o menos</td><td>Hombre</td><td>Mejoramientos</td><td>Aguascalientes </td><td> 56</td><td>0</td></tr>\n",
       "\t<tr><td>2024</td><td>SHF (FONDEO)</td><td>29 o menos</td><td>Hombre</td><td>Mejoramientos</td><td>Baja California</td><td> 53</td><td>0</td></tr>\n",
       "\t<tr><td>2024</td><td>SHF (FONDEO)</td><td>29 o menos</td><td>Hombre</td><td>Mejoramientos</td><td>Campeche       </td><td> 70</td><td>0</td></tr>\n",
       "\t<tr><td>2024</td><td>SHF (FONDEO)</td><td>29 o menos</td><td>Hombre</td><td>Mejoramientos</td><td>Chiapas        </td><td>502</td><td>0</td></tr>\n",
       "\t<tr><td>2024</td><td>SHF (FONDEO)</td><td>29 o menos</td><td>Hombre</td><td>Mejoramientos</td><td>Chihuahua      </td><td>  3</td><td>0</td></tr>\n",
       "</tbody>\n",
       "</table>\n"
      ],
      "text/markdown": "\nA grouped_df: 5 × 8\n\n| año &lt;int&gt; | organismo &lt;chr&gt; | grupo_edad &lt;chr&gt; | sexo &lt;chr&gt; | modalidad &lt;chr&gt; | estado &lt;chr&gt; | creditos &lt;int&gt; | monto &lt;dbl&gt; |\n|---|---|---|---|---|---|---|---|\n| 2024 | SHF (FONDEO) | 29 o menos | Hombre | Mejoramientos | Aguascalientes  |  56 | 0 |\n| 2024 | SHF (FONDEO) | 29 o menos | Hombre | Mejoramientos | Baja California |  53 | 0 |\n| 2024 | SHF (FONDEO) | 29 o menos | Hombre | Mejoramientos | Campeche        |  70 | 0 |\n| 2024 | SHF (FONDEO) | 29 o menos | Hombre | Mejoramientos | Chiapas         | 502 | 0 |\n| 2024 | SHF (FONDEO) | 29 o menos | Hombre | Mejoramientos | Chihuahua       |   3 | 0 |\n\n",
      "text/latex": "A grouped\\_df: 5 × 8\n\\begin{tabular}{llllllll}\n año & organismo & grupo\\_edad & sexo & modalidad & estado & creditos & monto\\\\\n <int> & <chr> & <chr> & <chr> & <chr> & <chr> & <int> & <dbl>\\\\\n\\hline\n\t 2024 & SHF (FONDEO) & 29 o menos & Hombre & Mejoramientos & Aguascalientes  &  56 & 0\\\\\n\t 2024 & SHF (FONDEO) & 29 o menos & Hombre & Mejoramientos & Baja California &  53 & 0\\\\\n\t 2024 & SHF (FONDEO) & 29 o menos & Hombre & Mejoramientos & Campeche        &  70 & 0\\\\\n\t 2024 & SHF (FONDEO) & 29 o menos & Hombre & Mejoramientos & Chiapas         & 502 & 0\\\\\n\t 2024 & SHF (FONDEO) & 29 o menos & Hombre & Mejoramientos & Chihuahua       &   3 & 0\\\\\n\\end{tabular}\n",
      "text/plain": [
       "  año  organismo    grupo_edad sexo   modalidad     estado          creditos\n",
       "1 2024 SHF (FONDEO) 29 o menos Hombre Mejoramientos Aguascalientes   56     \n",
       "2 2024 SHF (FONDEO) 29 o menos Hombre Mejoramientos Baja California  53     \n",
       "3 2024 SHF (FONDEO) 29 o menos Hombre Mejoramientos Campeche         70     \n",
       "4 2024 SHF (FONDEO) 29 o menos Hombre Mejoramientos Chiapas         502     \n",
       "5 2024 SHF (FONDEO) 29 o menos Hombre Mejoramientos Chihuahua         3     \n",
       "  monto\n",
       "1 0    \n",
       "2 0    \n",
       "3 0    \n",
       "4 0    \n",
       "5 0    "
      ]
     },
     "metadata": {},
     "output_type": "display_data"
    }
   ],
   "execution_count": 51
  },
  {
   "metadata": {},
   "cell_type": "markdown",
   "source": "### Fovissste",
   "id": "1971c4850e73c587"
  },
  {
   "metadata": {
    "ExecuteTime": {
     "end_time": "2024-05-31T04:30:31.832376Z",
     "start_time": "2024-05-31T04:30:31.797142Z"
    }
   },
   "cell_type": "code",
   "source": [
    "fovissste<-finan_gral%>%\n",
    "filter(organismo==\"FOVISSSTE\" &\n",
    "       destino_credito %in% c(\"Con disponibilidad de terreno\"))%>%\n",
    "group_by(año,organismo, grupo_edad,sexo,modalidad,estado)%>%\n",
    "summarise(creditos=sum(acciones),monto=sum(monto))\n",
    "head(fovissste,5)"
   ],
   "id": "e3a38cc521c898fc",
   "outputs": [
    {
     "name": "stderr",
     "output_type": "stream",
     "text": [
      "\u001B[1m\u001B[22m`summarise()` has grouped output by 'año', 'organismo', 'grupo_edad', 'sexo',\n",
      "'modalidad'. You can override using the `.groups` argument.\n"
     ]
    },
    {
     "data": {
      "text/html": [
       "<table class=\"dataframe\">\n",
       "<caption>A grouped_df: 5 × 8</caption>\n",
       "<thead>\n",
       "\t<tr><th scope=col>año</th><th scope=col>organismo</th><th scope=col>grupo_edad</th><th scope=col>sexo</th><th scope=col>modalidad</th><th scope=col>estado</th><th scope=col>creditos</th><th scope=col>monto</th></tr>\n",
       "\t<tr><th scope=col>&lt;int&gt;</th><th scope=col>&lt;chr&gt;</th><th scope=col>&lt;chr&gt;</th><th scope=col>&lt;chr&gt;</th><th scope=col>&lt;chr&gt;</th><th scope=col>&lt;chr&gt;</th><th scope=col>&lt;int&gt;</th><th scope=col>&lt;dbl&gt;</th></tr>\n",
       "</thead>\n",
       "<tbody>\n",
       "\t<tr><td>2024</td><td>FOVISSSTE</td><td>29 o menos</td><td>Hombre</td><td>Viviendas nuevas</td><td>Baja California Sur</td><td>1</td><td> 664009.7</td></tr>\n",
       "\t<tr><td>2024</td><td>FOVISSSTE</td><td>29 o menos</td><td>Hombre</td><td>Viviendas nuevas</td><td>Chiapas            </td><td>1</td><td> 708331.9</td></tr>\n",
       "\t<tr><td>2024</td><td>FOVISSSTE</td><td>29 o menos</td><td>Mujer </td><td>Viviendas nuevas</td><td>Sonora             </td><td>1</td><td>1377500.0</td></tr>\n",
       "\t<tr><td>2024</td><td>FOVISSSTE</td><td>30 a 59   </td><td>Hombre</td><td>Viviendas nuevas</td><td>Chiapas            </td><td>5</td><td>4158054.4</td></tr>\n",
       "\t<tr><td>2024</td><td>FOVISSSTE</td><td>30 a 59   </td><td>Hombre</td><td>Viviendas nuevas</td><td>Chihuahua          </td><td>1</td><td> 770578.2</td></tr>\n",
       "</tbody>\n",
       "</table>\n"
      ],
      "text/markdown": "\nA grouped_df: 5 × 8\n\n| año &lt;int&gt; | organismo &lt;chr&gt; | grupo_edad &lt;chr&gt; | sexo &lt;chr&gt; | modalidad &lt;chr&gt; | estado &lt;chr&gt; | creditos &lt;int&gt; | monto &lt;dbl&gt; |\n|---|---|---|---|---|---|---|---|\n| 2024 | FOVISSSTE | 29 o menos | Hombre | Viviendas nuevas | Baja California Sur | 1 |  664009.7 |\n| 2024 | FOVISSSTE | 29 o menos | Hombre | Viviendas nuevas | Chiapas             | 1 |  708331.9 |\n| 2024 | FOVISSSTE | 29 o menos | Mujer  | Viviendas nuevas | Sonora              | 1 | 1377500.0 |\n| 2024 | FOVISSSTE | 30 a 59    | Hombre | Viviendas nuevas | Chiapas             | 5 | 4158054.4 |\n| 2024 | FOVISSSTE | 30 a 59    | Hombre | Viviendas nuevas | Chihuahua           | 1 |  770578.2 |\n\n",
      "text/latex": "A grouped\\_df: 5 × 8\n\\begin{tabular}{llllllll}\n año & organismo & grupo\\_edad & sexo & modalidad & estado & creditos & monto\\\\\n <int> & <chr> & <chr> & <chr> & <chr> & <chr> & <int> & <dbl>\\\\\n\\hline\n\t 2024 & FOVISSSTE & 29 o menos & Hombre & Viviendas nuevas & Baja California Sur & 1 &  664009.7\\\\\n\t 2024 & FOVISSSTE & 29 o menos & Hombre & Viviendas nuevas & Chiapas             & 1 &  708331.9\\\\\n\t 2024 & FOVISSSTE & 29 o menos & Mujer  & Viviendas nuevas & Sonora              & 1 & 1377500.0\\\\\n\t 2024 & FOVISSSTE & 30 a 59    & Hombre & Viviendas nuevas & Chiapas             & 5 & 4158054.4\\\\\n\t 2024 & FOVISSSTE & 30 a 59    & Hombre & Viviendas nuevas & Chihuahua           & 1 &  770578.2\\\\\n\\end{tabular}\n",
      "text/plain": [
       "  año  organismo grupo_edad sexo   modalidad        estado             \n",
       "1 2024 FOVISSSTE 29 o menos Hombre Viviendas nuevas Baja California Sur\n",
       "2 2024 FOVISSSTE 29 o menos Hombre Viviendas nuevas Chiapas            \n",
       "3 2024 FOVISSSTE 29 o menos Mujer  Viviendas nuevas Sonora             \n",
       "4 2024 FOVISSSTE 30 a 59    Hombre Viviendas nuevas Chiapas            \n",
       "5 2024 FOVISSSTE 30 a 59    Hombre Viviendas nuevas Chihuahua          \n",
       "  creditos monto    \n",
       "1 1         664009.7\n",
       "2 1         708331.9\n",
       "3 1        1377500.0\n",
       "4 5        4158054.4\n",
       "5 1         770578.2"
      ]
     },
     "metadata": {},
     "output_type": "display_data"
    }
   ],
   "execution_count": 52
  },
  {
   "metadata": {},
   "cell_type": "markdown",
   "source": "### Infonavit   ",
   "id": "d4be1dbbeffbcc17"
  },
  {
   "metadata": {
    "ExecuteTime": {
     "end_time": "2024-05-31T04:30:31.851131Z",
     "start_time": "2024-05-31T04:30:31.835931Z"
    }
   },
   "cell_type": "code",
   "source": "url_infonavit<-\"https://sniiv.sedatu.gob.mx/api/CuboAPI/GetINFONAVIT/2024,2024/0/0/anio,linea_credito,modalidad,genero,rango_edad,estado\"",
   "id": "9741b868a75991b",
   "outputs": [],
   "execution_count": 53
  },
  {
   "metadata": {
    "ExecuteTime": {
     "end_time": "2024-05-31T04:30:32.593667Z",
     "start_time": "2024-05-31T04:30:31.854646Z"
    }
   },
   "cell_type": "code",
   "source": [
    "bdinfonavit<-consulta_api(url_infonavit)%>%\n",
    "arrange(año)"
   ],
   "id": "d269bb6254944ae3",
   "outputs": [],
   "execution_count": 54
  },
  {
   "metadata": {
    "ExecuteTime": {
     "end_time": "2024-05-31T04:30:32.632314Z",
     "start_time": "2024-05-31T04:30:32.597197Z"
    }
   },
   "cell_type": "code",
   "source": [
    "infonavit<-bdinfonavit%>%\n",
    "filter(linea_credito %in% c(\"Linea II\", \"Linea III\",\"Linea IV\"))%>%\n",
    "filter(modalidad %in% c(\"Adquisicion de suelo\", \"Ampliación y rehabilitación\",\"Autoconstrucción\",\"Con disponibilidad de terreno\"))%>%\n",
    "group_by(año,grupo_edad,sexo,modalidad,estado)%>%\n",
    "summarise(creditos=sum(acciones),monto=sum(monto))%>%\n",
    "mutate(organismo=\"INFONAVIT\")\n",
    "head(infonavit,5)"
   ],
   "id": "3952942c96ae3c44",
   "outputs": [
    {
     "name": "stderr",
     "output_type": "stream",
     "text": [
      "\u001B[1m\u001B[22m`summarise()` has grouped output by 'año', 'grupo_edad', 'sexo', 'modalidad'.\n",
      "You can override using the `.groups` argument.\n"
     ]
    },
    {
     "data": {
      "text/html": [
       "<table class=\"dataframe\">\n",
       "<caption>A grouped_df: 5 × 8</caption>\n",
       "<thead>\n",
       "\t<tr><th scope=col>año</th><th scope=col>grupo_edad</th><th scope=col>sexo</th><th scope=col>modalidad</th><th scope=col>estado</th><th scope=col>creditos</th><th scope=col>monto</th><th scope=col>organismo</th></tr>\n",
       "\t<tr><th scope=col>&lt;int&gt;</th><th scope=col>&lt;chr&gt;</th><th scope=col>&lt;chr&gt;</th><th scope=col>&lt;chr&gt;</th><th scope=col>&lt;chr&gt;</th><th scope=col>&lt;int&gt;</th><th scope=col>&lt;dbl&gt;</th><th scope=col>&lt;chr&gt;</th></tr>\n",
       "</thead>\n",
       "<tbody>\n",
       "\t<tr><td>2024</td><td>29 o menos</td><td>Hombre</td><td>Ampliación y rehabilitación</td><td>Aguascalientes     </td><td>121</td><td> 74550.19</td><td>INFONAVIT</td></tr>\n",
       "\t<tr><td>2024</td><td>29 o menos</td><td>Hombre</td><td>Ampliación y rehabilitación</td><td>Baja California    </td><td>235</td><td>185687.00</td><td>INFONAVIT</td></tr>\n",
       "\t<tr><td>2024</td><td>29 o menos</td><td>Hombre</td><td>Ampliación y rehabilitación</td><td>Baja California Sur</td><td> 36</td><td>     0.00</td><td>INFONAVIT</td></tr>\n",
       "\t<tr><td>2024</td><td>29 o menos</td><td>Hombre</td><td>Ampliación y rehabilitación</td><td>Campeche           </td><td> 36</td><td>172672.88</td><td>INFONAVIT</td></tr>\n",
       "\t<tr><td>2024</td><td>29 o menos</td><td>Hombre</td><td>Ampliación y rehabilitación</td><td>Chiapas            </td><td>131</td><td>837185.00</td><td>INFONAVIT</td></tr>\n",
       "</tbody>\n",
       "</table>\n"
      ],
      "text/markdown": "\nA grouped_df: 5 × 8\n\n| año &lt;int&gt; | grupo_edad &lt;chr&gt; | sexo &lt;chr&gt; | modalidad &lt;chr&gt; | estado &lt;chr&gt; | creditos &lt;int&gt; | monto &lt;dbl&gt; | organismo &lt;chr&gt; |\n|---|---|---|---|---|---|---|---|\n| 2024 | 29 o menos | Hombre | Ampliación y rehabilitación | Aguascalientes      | 121 |  74550.19 | INFONAVIT |\n| 2024 | 29 o menos | Hombre | Ampliación y rehabilitación | Baja California     | 235 | 185687.00 | INFONAVIT |\n| 2024 | 29 o menos | Hombre | Ampliación y rehabilitación | Baja California Sur |  36 |      0.00 | INFONAVIT |\n| 2024 | 29 o menos | Hombre | Ampliación y rehabilitación | Campeche            |  36 | 172672.88 | INFONAVIT |\n| 2024 | 29 o menos | Hombre | Ampliación y rehabilitación | Chiapas             | 131 | 837185.00 | INFONAVIT |\n\n",
      "text/latex": "A grouped\\_df: 5 × 8\n\\begin{tabular}{llllllll}\n año & grupo\\_edad & sexo & modalidad & estado & creditos & monto & organismo\\\\\n <int> & <chr> & <chr> & <chr> & <chr> & <int> & <dbl> & <chr>\\\\\n\\hline\n\t 2024 & 29 o menos & Hombre & Ampliación y rehabilitación & Aguascalientes      & 121 &  74550.19 & INFONAVIT\\\\\n\t 2024 & 29 o menos & Hombre & Ampliación y rehabilitación & Baja California     & 235 & 185687.00 & INFONAVIT\\\\\n\t 2024 & 29 o menos & Hombre & Ampliación y rehabilitación & Baja California Sur &  36 &      0.00 & INFONAVIT\\\\\n\t 2024 & 29 o menos & Hombre & Ampliación y rehabilitación & Campeche            &  36 & 172672.88 & INFONAVIT\\\\\n\t 2024 & 29 o menos & Hombre & Ampliación y rehabilitación & Chiapas             & 131 & 837185.00 & INFONAVIT\\\\\n\\end{tabular}\n",
      "text/plain": [
       "  año  grupo_edad sexo   modalidad                   estado             \n",
       "1 2024 29 o menos Hombre Ampliación y rehabilitación Aguascalientes     \n",
       "2 2024 29 o menos Hombre Ampliación y rehabilitación Baja California    \n",
       "3 2024 29 o menos Hombre Ampliación y rehabilitación Baja California Sur\n",
       "4 2024 29 o menos Hombre Ampliación y rehabilitación Campeche           \n",
       "5 2024 29 o menos Hombre Ampliación y rehabilitación Chiapas            \n",
       "  creditos monto     organismo\n",
       "1 121       74550.19 INFONAVIT\n",
       "2 235      185687.00 INFONAVIT\n",
       "3  36           0.00 INFONAVIT\n",
       "4  36      172672.88 INFONAVIT\n",
       "5 131      837185.00 INFONAVIT"
      ]
     },
     "metadata": {},
     "output_type": "display_data"
    }
   ],
   "execution_count": 55
  },
  {
   "metadata": {},
   "cell_type": "markdown",
   "source": "### Conavi",
   "id": "e09f67df23f9742e"
  },
  {
   "metadata": {
    "ExecuteTime": {
     "end_time": "2024-05-31T04:30:32.646111Z",
     "start_time": "2024-05-31T04:30:32.636179Z"
    }
   },
   "cell_type": "code",
   "source": "url_conavi<-\"https://sniiv.sedatu.gob.mx/api/CuboAPI/GetCONAVI/2024,2024/0/0/modalidad,anio,mes,genero,rango_edad,estado\"",
   "id": "5d340dd35a3d9214",
   "outputs": [],
   "execution_count": 56
  },
  {
   "metadata": {
    "ExecuteTime": {
     "end_time": "2024-05-31T04:30:32.972831Z",
     "start_time": "2024-05-31T04:30:32.649837Z"
    }
   },
   "cell_type": "code",
   "source": [
    "bdconavi<-consulta_api(url_conavi)%>%\n",
    "filter(mes!=\"abril\")%>%\n",
    "arrange(año)"
   ],
   "id": "f4e74fd5ef6f6bee",
   "outputs": [],
   "execution_count": 57
  },
  {
   "metadata": {
    "ExecuteTime": {
     "end_time": "2024-05-31T04:30:33.056828Z",
     "start_time": "2024-05-31T04:30:32.976126Z"
    }
   },
   "cell_type": "code",
   "source": [
    "conavi<-bdconavi%>%\n",
    "filter(modalidad %in% c(\"Autoproducción\", \"Autoconstrucción\", \"Ampliación\", \"Mejoramiento\",\"Reconstrucción\",\"Vivienda existente\"))%>%\n",
    "group_by(año,grupo_edad,sexo,modalidad,estado)%>%\n",
    "\n",
    "summarise(creditos=sum(acciones),monto=sum(monto))%>%\n",
    "mutate(organismo=\"CONAVI\")\n",
    "\n",
    "\n",
    "conavi"
   ],
   "id": "28aa4b38a4d3af10",
   "outputs": [
    {
     "name": "stderr",
     "output_type": "stream",
     "text": [
      "\u001B[1m\u001B[22m`summarise()` has grouped output by 'año', 'grupo_edad', 'sexo', 'modalidad'.\n",
      "You can override using the `.groups` argument.\n"
     ]
    },
    {
     "data": {
      "text/html": [
       "<table class=\"dataframe\">\n",
       "<caption>A grouped_df: 186 × 8</caption>\n",
       "<thead>\n",
       "\t<tr><th scope=col>año</th><th scope=col>grupo_edad</th><th scope=col>sexo</th><th scope=col>modalidad</th><th scope=col>estado</th><th scope=col>creditos</th><th scope=col>monto</th><th scope=col>organismo</th></tr>\n",
       "\t<tr><th scope=col>&lt;int&gt;</th><th scope=col>&lt;chr&gt;</th><th scope=col>&lt;chr&gt;</th><th scope=col>&lt;chr&gt;</th><th scope=col>&lt;chr&gt;</th><th scope=col>&lt;int&gt;</th><th scope=col>&lt;dbl&gt;</th><th scope=col>&lt;chr&gt;</th></tr>\n",
       "</thead>\n",
       "<tbody>\n",
       "\t<tr><td>2024</td><td>29 o menos</td><td>Hombre</td><td>Mejoramiento</td><td>Aguascalientes                 </td><td> 34</td><td>1190000</td><td>CONAVI</td></tr>\n",
       "\t<tr><td>2024</td><td>29 o menos</td><td>Hombre</td><td>Mejoramiento</td><td>Baja California                </td><td> 68</td><td>2380000</td><td>CONAVI</td></tr>\n",
       "\t<tr><td>2024</td><td>29 o menos</td><td>Hombre</td><td>Mejoramiento</td><td>Baja California Sur            </td><td> 87</td><td>3045000</td><td>CONAVI</td></tr>\n",
       "\t<tr><td>2024</td><td>29 o menos</td><td>Hombre</td><td>Mejoramiento</td><td>Campeche                       </td><td> 34</td><td>1190000</td><td>CONAVI</td></tr>\n",
       "\t<tr><td>2024</td><td>29 o menos</td><td>Hombre</td><td>Mejoramiento</td><td>Chiapas                        </td><td>191</td><td>6685000</td><td>CONAVI</td></tr>\n",
       "\t<tr><td>2024</td><td>29 o menos</td><td>Hombre</td><td>Mejoramiento</td><td>Chihuahua                      </td><td> 79</td><td>2765000</td><td>CONAVI</td></tr>\n",
       "\t<tr><td>2024</td><td>29 o menos</td><td>Hombre</td><td>Mejoramiento</td><td>Coahuila de Zaragoza           </td><td> 32</td><td>1120000</td><td>CONAVI</td></tr>\n",
       "\t<tr><td>2024</td><td>29 o menos</td><td>Hombre</td><td>Mejoramiento</td><td>Colima                         </td><td> 40</td><td>1400000</td><td>CONAVI</td></tr>\n",
       "\t<tr><td>2024</td><td>29 o menos</td><td>Hombre</td><td>Mejoramiento</td><td>Durango                        </td><td>200</td><td>7000000</td><td>CONAVI</td></tr>\n",
       "\t<tr><td>2024</td><td>29 o menos</td><td>Hombre</td><td>Mejoramiento</td><td>Guanajuato                     </td><td> 25</td><td> 875000</td><td>CONAVI</td></tr>\n",
       "\t<tr><td>2024</td><td>29 o menos</td><td>Hombre</td><td>Mejoramiento</td><td>Guerrero                       </td><td>145</td><td>5075000</td><td>CONAVI</td></tr>\n",
       "\t<tr><td>2024</td><td>29 o menos</td><td>Hombre</td><td>Mejoramiento</td><td>Hidalgo                        </td><td> 95</td><td>3325000</td><td>CONAVI</td></tr>\n",
       "\t<tr><td>2024</td><td>29 o menos</td><td>Hombre</td><td>Mejoramiento</td><td>Jalisco                        </td><td>234</td><td>8190000</td><td>CONAVI</td></tr>\n",
       "\t<tr><td>2024</td><td>29 o menos</td><td>Hombre</td><td>Mejoramiento</td><td>Michoacán de Ocampo            </td><td>134</td><td>4690000</td><td>CONAVI</td></tr>\n",
       "\t<tr><td>2024</td><td>29 o menos</td><td>Hombre</td><td>Mejoramiento</td><td>Morelos                        </td><td> 26</td><td> 910000</td><td>CONAVI</td></tr>\n",
       "\t<tr><td>2024</td><td>29 o menos</td><td>Hombre</td><td>Mejoramiento</td><td>México                         </td><td>113</td><td>3955000</td><td>CONAVI</td></tr>\n",
       "\t<tr><td>2024</td><td>29 o menos</td><td>Hombre</td><td>Mejoramiento</td><td>Nayarit                        </td><td> 69</td><td>2415000</td><td>CONAVI</td></tr>\n",
       "\t<tr><td>2024</td><td>29 o menos</td><td>Hombre</td><td>Mejoramiento</td><td>Nuevo León                     </td><td> 54</td><td>1890000</td><td>CONAVI</td></tr>\n",
       "\t<tr><td>2024</td><td>29 o menos</td><td>Hombre</td><td>Mejoramiento</td><td>Oaxaca                         </td><td> 63</td><td>2205000</td><td>CONAVI</td></tr>\n",
       "\t<tr><td>2024</td><td>29 o menos</td><td>Hombre</td><td>Mejoramiento</td><td>Puebla                         </td><td> 92</td><td>3220000</td><td>CONAVI</td></tr>\n",
       "\t<tr><td>2024</td><td>29 o menos</td><td>Hombre</td><td>Mejoramiento</td><td>Querétaro                      </td><td> 53</td><td>1855000</td><td>CONAVI</td></tr>\n",
       "\t<tr><td>2024</td><td>29 o menos</td><td>Hombre</td><td>Mejoramiento</td><td>Quintana Roo                   </td><td> 49</td><td>1715000</td><td>CONAVI</td></tr>\n",
       "\t<tr><td>2024</td><td>29 o menos</td><td>Hombre</td><td>Mejoramiento</td><td>San Luis Potosí                </td><td>162</td><td>5670000</td><td>CONAVI</td></tr>\n",
       "\t<tr><td>2024</td><td>29 o menos</td><td>Hombre</td><td>Mejoramiento</td><td>Sinaloa                        </td><td> 76</td><td>2660000</td><td>CONAVI</td></tr>\n",
       "\t<tr><td>2024</td><td>29 o menos</td><td>Hombre</td><td>Mejoramiento</td><td>Sonora                         </td><td> 70</td><td>2450000</td><td>CONAVI</td></tr>\n",
       "\t<tr><td>2024</td><td>29 o menos</td><td>Hombre</td><td>Mejoramiento</td><td>Tabasco                        </td><td> 84</td><td>2940000</td><td>CONAVI</td></tr>\n",
       "\t<tr><td>2024</td><td>29 o menos</td><td>Hombre</td><td>Mejoramiento</td><td>Tamaulipas                     </td><td> 70</td><td>2450000</td><td>CONAVI</td></tr>\n",
       "\t<tr><td>2024</td><td>29 o menos</td><td>Hombre</td><td>Mejoramiento</td><td>Tlaxcala                       </td><td> 38</td><td>1330000</td><td>CONAVI</td></tr>\n",
       "\t<tr><td>2024</td><td>29 o menos</td><td>Hombre</td><td>Mejoramiento</td><td>Veracruz de Ignacio de la Llave</td><td> 81</td><td>2835000</td><td>CONAVI</td></tr>\n",
       "\t<tr><td>2024</td><td>29 o menos</td><td>Hombre</td><td>Mejoramiento</td><td>Yucatán                        </td><td> 75</td><td>2625000</td><td>CONAVI</td></tr>\n",
       "\t<tr><td>⋮</td><td>⋮</td><td>⋮</td><td>⋮</td><td>⋮</td><td>⋮</td><td>⋮</td><td>⋮</td></tr>\n",
       "\t<tr><td>2024</td><td>60 o más</td><td>Mujer</td><td>Mejoramiento</td><td>Baja California                </td><td>514</td><td>17990000</td><td>CONAVI</td></tr>\n",
       "\t<tr><td>2024</td><td>60 o más</td><td>Mujer</td><td>Mejoramiento</td><td>Baja California Sur            </td><td>277</td><td> 9695000</td><td>CONAVI</td></tr>\n",
       "\t<tr><td>2024</td><td>60 o más</td><td>Mujer</td><td>Mejoramiento</td><td>Campeche                       </td><td>150</td><td> 5250000</td><td>CONAVI</td></tr>\n",
       "\t<tr><td>2024</td><td>60 o más</td><td>Mujer</td><td>Mejoramiento</td><td>Chiapas                        </td><td>137</td><td> 4795000</td><td>CONAVI</td></tr>\n",
       "\t<tr><td>2024</td><td>60 o más</td><td>Mujer</td><td>Mejoramiento</td><td>Chihuahua                      </td><td>198</td><td> 6930000</td><td>CONAVI</td></tr>\n",
       "\t<tr><td>2024</td><td>60 o más</td><td>Mujer</td><td>Mejoramiento</td><td>Coahuila de Zaragoza           </td><td>308</td><td>10780000</td><td>CONAVI</td></tr>\n",
       "\t<tr><td>2024</td><td>60 o más</td><td>Mujer</td><td>Mejoramiento</td><td>Colima                         </td><td>520</td><td>18200000</td><td>CONAVI</td></tr>\n",
       "\t<tr><td>2024</td><td>60 o más</td><td>Mujer</td><td>Mejoramiento</td><td>Durango                        </td><td>350</td><td>12250000</td><td>CONAVI</td></tr>\n",
       "\t<tr><td>2024</td><td>60 o más</td><td>Mujer</td><td>Mejoramiento</td><td>Guanajuato                     </td><td>237</td><td> 8295000</td><td>CONAVI</td></tr>\n",
       "\t<tr><td>2024</td><td>60 o más</td><td>Mujer</td><td>Mejoramiento</td><td>Guerrero                       </td><td>189</td><td> 6615000</td><td>CONAVI</td></tr>\n",
       "\t<tr><td>2024</td><td>60 o más</td><td>Mujer</td><td>Mejoramiento</td><td>Hidalgo                        </td><td>548</td><td>19180000</td><td>CONAVI</td></tr>\n",
       "\t<tr><td>2024</td><td>60 o más</td><td>Mujer</td><td>Mejoramiento</td><td>Jalisco                        </td><td>306</td><td>10710000</td><td>CONAVI</td></tr>\n",
       "\t<tr><td>2024</td><td>60 o más</td><td>Mujer</td><td>Mejoramiento</td><td>Michoacán de Ocampo            </td><td>548</td><td>19180000</td><td>CONAVI</td></tr>\n",
       "\t<tr><td>2024</td><td>60 o más</td><td>Mujer</td><td>Mejoramiento</td><td>Morelos                        </td><td>211</td><td> 7385000</td><td>CONAVI</td></tr>\n",
       "\t<tr><td>2024</td><td>60 o más</td><td>Mujer</td><td>Mejoramiento</td><td>México                         </td><td>262</td><td> 9170000</td><td>CONAVI</td></tr>\n",
       "\t<tr><td>2024</td><td>60 o más</td><td>Mujer</td><td>Mejoramiento</td><td>Nayarit                        </td><td>202</td><td> 7070000</td><td>CONAVI</td></tr>\n",
       "\t<tr><td>2024</td><td>60 o más</td><td>Mujer</td><td>Mejoramiento</td><td>Nuevo León                     </td><td>208</td><td> 7280000</td><td>CONAVI</td></tr>\n",
       "\t<tr><td>2024</td><td>60 o más</td><td>Mujer</td><td>Mejoramiento</td><td>Oaxaca                         </td><td>283</td><td> 9905000</td><td>CONAVI</td></tr>\n",
       "\t<tr><td>2024</td><td>60 o más</td><td>Mujer</td><td>Mejoramiento</td><td>Puebla                         </td><td>206</td><td> 7210000</td><td>CONAVI</td></tr>\n",
       "\t<tr><td>2024</td><td>60 o más</td><td>Mujer</td><td>Mejoramiento</td><td>Querétaro                      </td><td>223</td><td> 7805000</td><td>CONAVI</td></tr>\n",
       "\t<tr><td>2024</td><td>60 o más</td><td>Mujer</td><td>Mejoramiento</td><td>Quintana Roo                   </td><td>126</td><td> 4410000</td><td>CONAVI</td></tr>\n",
       "\t<tr><td>2024</td><td>60 o más</td><td>Mujer</td><td>Mejoramiento</td><td>San Luis Potosí                </td><td>379</td><td>13265000</td><td>CONAVI</td></tr>\n",
       "\t<tr><td>2024</td><td>60 o más</td><td>Mujer</td><td>Mejoramiento</td><td>Sinaloa                        </td><td>543</td><td>19005000</td><td>CONAVI</td></tr>\n",
       "\t<tr><td>2024</td><td>60 o más</td><td>Mujer</td><td>Mejoramiento</td><td>Sonora                         </td><td>362</td><td>12670000</td><td>CONAVI</td></tr>\n",
       "\t<tr><td>2024</td><td>60 o más</td><td>Mujer</td><td>Mejoramiento</td><td>Tabasco                        </td><td>691</td><td>24185000</td><td>CONAVI</td></tr>\n",
       "\t<tr><td>2024</td><td>60 o más</td><td>Mujer</td><td>Mejoramiento</td><td>Tamaulipas                     </td><td>455</td><td>15925000</td><td>CONAVI</td></tr>\n",
       "\t<tr><td>2024</td><td>60 o más</td><td>Mujer</td><td>Mejoramiento</td><td>Tlaxcala                       </td><td> 96</td><td> 3360000</td><td>CONAVI</td></tr>\n",
       "\t<tr><td>2024</td><td>60 o más</td><td>Mujer</td><td>Mejoramiento</td><td>Veracruz de Ignacio de la Llave</td><td>349</td><td>12215000</td><td>CONAVI</td></tr>\n",
       "\t<tr><td>2024</td><td>60 o más</td><td>Mujer</td><td>Mejoramiento</td><td>Yucatán                        </td><td>155</td><td> 5425000</td><td>CONAVI</td></tr>\n",
       "\t<tr><td>2024</td><td>60 o más</td><td>Mujer</td><td>Mejoramiento</td><td>Zacatecas                      </td><td>238</td><td> 8330000</td><td>CONAVI</td></tr>\n",
       "</tbody>\n",
       "</table>\n"
      ],
      "text/markdown": "\nA grouped_df: 186 × 8\n\n| año &lt;int&gt; | grupo_edad &lt;chr&gt; | sexo &lt;chr&gt; | modalidad &lt;chr&gt; | estado &lt;chr&gt; | creditos &lt;int&gt; | monto &lt;dbl&gt; | organismo &lt;chr&gt; |\n|---|---|---|---|---|---|---|---|\n| 2024 | 29 o menos | Hombre | Mejoramiento | Aguascalientes                  |  34 | 1190000 | CONAVI |\n| 2024 | 29 o menos | Hombre | Mejoramiento | Baja California                 |  68 | 2380000 | CONAVI |\n| 2024 | 29 o menos | Hombre | Mejoramiento | Baja California Sur             |  87 | 3045000 | CONAVI |\n| 2024 | 29 o menos | Hombre | Mejoramiento | Campeche                        |  34 | 1190000 | CONAVI |\n| 2024 | 29 o menos | Hombre | Mejoramiento | Chiapas                         | 191 | 6685000 | CONAVI |\n| 2024 | 29 o menos | Hombre | Mejoramiento | Chihuahua                       |  79 | 2765000 | CONAVI |\n| 2024 | 29 o menos | Hombre | Mejoramiento | Coahuila de Zaragoza            |  32 | 1120000 | CONAVI |\n| 2024 | 29 o menos | Hombre | Mejoramiento | Colima                          |  40 | 1400000 | CONAVI |\n| 2024 | 29 o menos | Hombre | Mejoramiento | Durango                         | 200 | 7000000 | CONAVI |\n| 2024 | 29 o menos | Hombre | Mejoramiento | Guanajuato                      |  25 |  875000 | CONAVI |\n| 2024 | 29 o menos | Hombre | Mejoramiento | Guerrero                        | 145 | 5075000 | CONAVI |\n| 2024 | 29 o menos | Hombre | Mejoramiento | Hidalgo                         |  95 | 3325000 | CONAVI |\n| 2024 | 29 o menos | Hombre | Mejoramiento | Jalisco                         | 234 | 8190000 | CONAVI |\n| 2024 | 29 o menos | Hombre | Mejoramiento | Michoacán de Ocampo             | 134 | 4690000 | CONAVI |\n| 2024 | 29 o menos | Hombre | Mejoramiento | Morelos                         |  26 |  910000 | CONAVI |\n| 2024 | 29 o menos | Hombre | Mejoramiento | México                          | 113 | 3955000 | CONAVI |\n| 2024 | 29 o menos | Hombre | Mejoramiento | Nayarit                         |  69 | 2415000 | CONAVI |\n| 2024 | 29 o menos | Hombre | Mejoramiento | Nuevo León                      |  54 | 1890000 | CONAVI |\n| 2024 | 29 o menos | Hombre | Mejoramiento | Oaxaca                          |  63 | 2205000 | CONAVI |\n| 2024 | 29 o menos | Hombre | Mejoramiento | Puebla                          |  92 | 3220000 | CONAVI |\n| 2024 | 29 o menos | Hombre | Mejoramiento | Querétaro                       |  53 | 1855000 | CONAVI |\n| 2024 | 29 o menos | Hombre | Mejoramiento | Quintana Roo                    |  49 | 1715000 | CONAVI |\n| 2024 | 29 o menos | Hombre | Mejoramiento | San Luis Potosí                 | 162 | 5670000 | CONAVI |\n| 2024 | 29 o menos | Hombre | Mejoramiento | Sinaloa                         |  76 | 2660000 | CONAVI |\n| 2024 | 29 o menos | Hombre | Mejoramiento | Sonora                          |  70 | 2450000 | CONAVI |\n| 2024 | 29 o menos | Hombre | Mejoramiento | Tabasco                         |  84 | 2940000 | CONAVI |\n| 2024 | 29 o menos | Hombre | Mejoramiento | Tamaulipas                      |  70 | 2450000 | CONAVI |\n| 2024 | 29 o menos | Hombre | Mejoramiento | Tlaxcala                        |  38 | 1330000 | CONAVI |\n| 2024 | 29 o menos | Hombre | Mejoramiento | Veracruz de Ignacio de la Llave |  81 | 2835000 | CONAVI |\n| 2024 | 29 o menos | Hombre | Mejoramiento | Yucatán                         |  75 | 2625000 | CONAVI |\n| ⋮ | ⋮ | ⋮ | ⋮ | ⋮ | ⋮ | ⋮ | ⋮ |\n| 2024 | 60 o más | Mujer | Mejoramiento | Baja California                 | 514 | 17990000 | CONAVI |\n| 2024 | 60 o más | Mujer | Mejoramiento | Baja California Sur             | 277 |  9695000 | CONAVI |\n| 2024 | 60 o más | Mujer | Mejoramiento | Campeche                        | 150 |  5250000 | CONAVI |\n| 2024 | 60 o más | Mujer | Mejoramiento | Chiapas                         | 137 |  4795000 | CONAVI |\n| 2024 | 60 o más | Mujer | Mejoramiento | Chihuahua                       | 198 |  6930000 | CONAVI |\n| 2024 | 60 o más | Mujer | Mejoramiento | Coahuila de Zaragoza            | 308 | 10780000 | CONAVI |\n| 2024 | 60 o más | Mujer | Mejoramiento | Colima                          | 520 | 18200000 | CONAVI |\n| 2024 | 60 o más | Mujer | Mejoramiento | Durango                         | 350 | 12250000 | CONAVI |\n| 2024 | 60 o más | Mujer | Mejoramiento | Guanajuato                      | 237 |  8295000 | CONAVI |\n| 2024 | 60 o más | Mujer | Mejoramiento | Guerrero                        | 189 |  6615000 | CONAVI |\n| 2024 | 60 o más | Mujer | Mejoramiento | Hidalgo                         | 548 | 19180000 | CONAVI |\n| 2024 | 60 o más | Mujer | Mejoramiento | Jalisco                         | 306 | 10710000 | CONAVI |\n| 2024 | 60 o más | Mujer | Mejoramiento | Michoacán de Ocampo             | 548 | 19180000 | CONAVI |\n| 2024 | 60 o más | Mujer | Mejoramiento | Morelos                         | 211 |  7385000 | CONAVI |\n| 2024 | 60 o más | Mujer | Mejoramiento | México                          | 262 |  9170000 | CONAVI |\n| 2024 | 60 o más | Mujer | Mejoramiento | Nayarit                         | 202 |  7070000 | CONAVI |\n| 2024 | 60 o más | Mujer | Mejoramiento | Nuevo León                      | 208 |  7280000 | CONAVI |\n| 2024 | 60 o más | Mujer | Mejoramiento | Oaxaca                          | 283 |  9905000 | CONAVI |\n| 2024 | 60 o más | Mujer | Mejoramiento | Puebla                          | 206 |  7210000 | CONAVI |\n| 2024 | 60 o más | Mujer | Mejoramiento | Querétaro                       | 223 |  7805000 | CONAVI |\n| 2024 | 60 o más | Mujer | Mejoramiento | Quintana Roo                    | 126 |  4410000 | CONAVI |\n| 2024 | 60 o más | Mujer | Mejoramiento | San Luis Potosí                 | 379 | 13265000 | CONAVI |\n| 2024 | 60 o más | Mujer | Mejoramiento | Sinaloa                         | 543 | 19005000 | CONAVI |\n| 2024 | 60 o más | Mujer | Mejoramiento | Sonora                          | 362 | 12670000 | CONAVI |\n| 2024 | 60 o más | Mujer | Mejoramiento | Tabasco                         | 691 | 24185000 | CONAVI |\n| 2024 | 60 o más | Mujer | Mejoramiento | Tamaulipas                      | 455 | 15925000 | CONAVI |\n| 2024 | 60 o más | Mujer | Mejoramiento | Tlaxcala                        |  96 |  3360000 | CONAVI |\n| 2024 | 60 o más | Mujer | Mejoramiento | Veracruz de Ignacio de la Llave | 349 | 12215000 | CONAVI |\n| 2024 | 60 o más | Mujer | Mejoramiento | Yucatán                         | 155 |  5425000 | CONAVI |\n| 2024 | 60 o más | Mujer | Mejoramiento | Zacatecas                       | 238 |  8330000 | CONAVI |\n\n",
      "text/latex": "A grouped\\_df: 186 × 8\n\\begin{tabular}{llllllll}\n año & grupo\\_edad & sexo & modalidad & estado & creditos & monto & organismo\\\\\n <int> & <chr> & <chr> & <chr> & <chr> & <int> & <dbl> & <chr>\\\\\n\\hline\n\t 2024 & 29 o menos & Hombre & Mejoramiento & Aguascalientes                  &  34 & 1190000 & CONAVI\\\\\n\t 2024 & 29 o menos & Hombre & Mejoramiento & Baja California                 &  68 & 2380000 & CONAVI\\\\\n\t 2024 & 29 o menos & Hombre & Mejoramiento & Baja California Sur             &  87 & 3045000 & CONAVI\\\\\n\t 2024 & 29 o menos & Hombre & Mejoramiento & Campeche                        &  34 & 1190000 & CONAVI\\\\\n\t 2024 & 29 o menos & Hombre & Mejoramiento & Chiapas                         & 191 & 6685000 & CONAVI\\\\\n\t 2024 & 29 o menos & Hombre & Mejoramiento & Chihuahua                       &  79 & 2765000 & CONAVI\\\\\n\t 2024 & 29 o menos & Hombre & Mejoramiento & Coahuila de Zaragoza            &  32 & 1120000 & CONAVI\\\\\n\t 2024 & 29 o menos & Hombre & Mejoramiento & Colima                          &  40 & 1400000 & CONAVI\\\\\n\t 2024 & 29 o menos & Hombre & Mejoramiento & Durango                         & 200 & 7000000 & CONAVI\\\\\n\t 2024 & 29 o menos & Hombre & Mejoramiento & Guanajuato                      &  25 &  875000 & CONAVI\\\\\n\t 2024 & 29 o menos & Hombre & Mejoramiento & Guerrero                        & 145 & 5075000 & CONAVI\\\\\n\t 2024 & 29 o menos & Hombre & Mejoramiento & Hidalgo                         &  95 & 3325000 & CONAVI\\\\\n\t 2024 & 29 o menos & Hombre & Mejoramiento & Jalisco                         & 234 & 8190000 & CONAVI\\\\\n\t 2024 & 29 o menos & Hombre & Mejoramiento & Michoacán de Ocampo             & 134 & 4690000 & CONAVI\\\\\n\t 2024 & 29 o menos & Hombre & Mejoramiento & Morelos                         &  26 &  910000 & CONAVI\\\\\n\t 2024 & 29 o menos & Hombre & Mejoramiento & México                          & 113 & 3955000 & CONAVI\\\\\n\t 2024 & 29 o menos & Hombre & Mejoramiento & Nayarit                         &  69 & 2415000 & CONAVI\\\\\n\t 2024 & 29 o menos & Hombre & Mejoramiento & Nuevo León                      &  54 & 1890000 & CONAVI\\\\\n\t 2024 & 29 o menos & Hombre & Mejoramiento & Oaxaca                          &  63 & 2205000 & CONAVI\\\\\n\t 2024 & 29 o menos & Hombre & Mejoramiento & Puebla                          &  92 & 3220000 & CONAVI\\\\\n\t 2024 & 29 o menos & Hombre & Mejoramiento & Querétaro                       &  53 & 1855000 & CONAVI\\\\\n\t 2024 & 29 o menos & Hombre & Mejoramiento & Quintana Roo                    &  49 & 1715000 & CONAVI\\\\\n\t 2024 & 29 o menos & Hombre & Mejoramiento & San Luis Potosí                 & 162 & 5670000 & CONAVI\\\\\n\t 2024 & 29 o menos & Hombre & Mejoramiento & Sinaloa                         &  76 & 2660000 & CONAVI\\\\\n\t 2024 & 29 o menos & Hombre & Mejoramiento & Sonora                          &  70 & 2450000 & CONAVI\\\\\n\t 2024 & 29 o menos & Hombre & Mejoramiento & Tabasco                         &  84 & 2940000 & CONAVI\\\\\n\t 2024 & 29 o menos & Hombre & Mejoramiento & Tamaulipas                      &  70 & 2450000 & CONAVI\\\\\n\t 2024 & 29 o menos & Hombre & Mejoramiento & Tlaxcala                        &  38 & 1330000 & CONAVI\\\\\n\t 2024 & 29 o menos & Hombre & Mejoramiento & Veracruz de Ignacio de la Llave &  81 & 2835000 & CONAVI\\\\\n\t 2024 & 29 o menos & Hombre & Mejoramiento & Yucatán                         &  75 & 2625000 & CONAVI\\\\\n\t ⋮ & ⋮ & ⋮ & ⋮ & ⋮ & ⋮ & ⋮ & ⋮\\\\\n\t 2024 & 60 o más & Mujer & Mejoramiento & Baja California                 & 514 & 17990000 & CONAVI\\\\\n\t 2024 & 60 o más & Mujer & Mejoramiento & Baja California Sur             & 277 &  9695000 & CONAVI\\\\\n\t 2024 & 60 o más & Mujer & Mejoramiento & Campeche                        & 150 &  5250000 & CONAVI\\\\\n\t 2024 & 60 o más & Mujer & Mejoramiento & Chiapas                         & 137 &  4795000 & CONAVI\\\\\n\t 2024 & 60 o más & Mujer & Mejoramiento & Chihuahua                       & 198 &  6930000 & CONAVI\\\\\n\t 2024 & 60 o más & Mujer & Mejoramiento & Coahuila de Zaragoza            & 308 & 10780000 & CONAVI\\\\\n\t 2024 & 60 o más & Mujer & Mejoramiento & Colima                          & 520 & 18200000 & CONAVI\\\\\n\t 2024 & 60 o más & Mujer & Mejoramiento & Durango                         & 350 & 12250000 & CONAVI\\\\\n\t 2024 & 60 o más & Mujer & Mejoramiento & Guanajuato                      & 237 &  8295000 & CONAVI\\\\\n\t 2024 & 60 o más & Mujer & Mejoramiento & Guerrero                        & 189 &  6615000 & CONAVI\\\\\n\t 2024 & 60 o más & Mujer & Mejoramiento & Hidalgo                         & 548 & 19180000 & CONAVI\\\\\n\t 2024 & 60 o más & Mujer & Mejoramiento & Jalisco                         & 306 & 10710000 & CONAVI\\\\\n\t 2024 & 60 o más & Mujer & Mejoramiento & Michoacán de Ocampo             & 548 & 19180000 & CONAVI\\\\\n\t 2024 & 60 o más & Mujer & Mejoramiento & Morelos                         & 211 &  7385000 & CONAVI\\\\\n\t 2024 & 60 o más & Mujer & Mejoramiento & México                          & 262 &  9170000 & CONAVI\\\\\n\t 2024 & 60 o más & Mujer & Mejoramiento & Nayarit                         & 202 &  7070000 & CONAVI\\\\\n\t 2024 & 60 o más & Mujer & Mejoramiento & Nuevo León                      & 208 &  7280000 & CONAVI\\\\\n\t 2024 & 60 o más & Mujer & Mejoramiento & Oaxaca                          & 283 &  9905000 & CONAVI\\\\\n\t 2024 & 60 o más & Mujer & Mejoramiento & Puebla                          & 206 &  7210000 & CONAVI\\\\\n\t 2024 & 60 o más & Mujer & Mejoramiento & Querétaro                       & 223 &  7805000 & CONAVI\\\\\n\t 2024 & 60 o más & Mujer & Mejoramiento & Quintana Roo                    & 126 &  4410000 & CONAVI\\\\\n\t 2024 & 60 o más & Mujer & Mejoramiento & San Luis Potosí                 & 379 & 13265000 & CONAVI\\\\\n\t 2024 & 60 o más & Mujer & Mejoramiento & Sinaloa                         & 543 & 19005000 & CONAVI\\\\\n\t 2024 & 60 o más & Mujer & Mejoramiento & Sonora                          & 362 & 12670000 & CONAVI\\\\\n\t 2024 & 60 o más & Mujer & Mejoramiento & Tabasco                         & 691 & 24185000 & CONAVI\\\\\n\t 2024 & 60 o más & Mujer & Mejoramiento & Tamaulipas                      & 455 & 15925000 & CONAVI\\\\\n\t 2024 & 60 o más & Mujer & Mejoramiento & Tlaxcala                        &  96 &  3360000 & CONAVI\\\\\n\t 2024 & 60 o más & Mujer & Mejoramiento & Veracruz de Ignacio de la Llave & 349 & 12215000 & CONAVI\\\\\n\t 2024 & 60 o más & Mujer & Mejoramiento & Yucatán                         & 155 &  5425000 & CONAVI\\\\\n\t 2024 & 60 o más & Mujer & Mejoramiento & Zacatecas                       & 238 &  8330000 & CONAVI\\\\\n\\end{tabular}\n",
      "text/plain": [
       "    año  grupo_edad sexo   modalidad    estado                         \n",
       "1   2024 29 o menos Hombre Mejoramiento Aguascalientes                 \n",
       "2   2024 29 o menos Hombre Mejoramiento Baja California                \n",
       "3   2024 29 o menos Hombre Mejoramiento Baja California Sur            \n",
       "4   2024 29 o menos Hombre Mejoramiento Campeche                       \n",
       "5   2024 29 o menos Hombre Mejoramiento Chiapas                        \n",
       "6   2024 29 o menos Hombre Mejoramiento Chihuahua                      \n",
       "7   2024 29 o menos Hombre Mejoramiento Coahuila de Zaragoza           \n",
       "8   2024 29 o menos Hombre Mejoramiento Colima                         \n",
       "9   2024 29 o menos Hombre Mejoramiento Durango                        \n",
       "10  2024 29 o menos Hombre Mejoramiento Guanajuato                     \n",
       "11  2024 29 o menos Hombre Mejoramiento Guerrero                       \n",
       "12  2024 29 o menos Hombre Mejoramiento Hidalgo                        \n",
       "13  2024 29 o menos Hombre Mejoramiento Jalisco                        \n",
       "14  2024 29 o menos Hombre Mejoramiento Michoacán de Ocampo            \n",
       "15  2024 29 o menos Hombre Mejoramiento Morelos                        \n",
       "16  2024 29 o menos Hombre Mejoramiento México                         \n",
       "17  2024 29 o menos Hombre Mejoramiento Nayarit                        \n",
       "18  2024 29 o menos Hombre Mejoramiento Nuevo León                     \n",
       "19  2024 29 o menos Hombre Mejoramiento Oaxaca                         \n",
       "20  2024 29 o menos Hombre Mejoramiento Puebla                         \n",
       "21  2024 29 o menos Hombre Mejoramiento Querétaro                      \n",
       "22  2024 29 o menos Hombre Mejoramiento Quintana Roo                   \n",
       "23  2024 29 o menos Hombre Mejoramiento San Luis Potosí                \n",
       "24  2024 29 o menos Hombre Mejoramiento Sinaloa                        \n",
       "25  2024 29 o menos Hombre Mejoramiento Sonora                         \n",
       "26  2024 29 o menos Hombre Mejoramiento Tabasco                        \n",
       "27  2024 29 o menos Hombre Mejoramiento Tamaulipas                     \n",
       "28  2024 29 o menos Hombre Mejoramiento Tlaxcala                       \n",
       "29  2024 29 o menos Hombre Mejoramiento Veracruz de Ignacio de la Llave\n",
       "30  2024 29 o menos Hombre Mejoramiento Yucatán                        \n",
       "⋮   ⋮    ⋮          ⋮      ⋮            ⋮                              \n",
       "157 2024 60 o más   Mujer  Mejoramiento Baja California                \n",
       "158 2024 60 o más   Mujer  Mejoramiento Baja California Sur            \n",
       "159 2024 60 o más   Mujer  Mejoramiento Campeche                       \n",
       "160 2024 60 o más   Mujer  Mejoramiento Chiapas                        \n",
       "161 2024 60 o más   Mujer  Mejoramiento Chihuahua                      \n",
       "162 2024 60 o más   Mujer  Mejoramiento Coahuila de Zaragoza           \n",
       "163 2024 60 o más   Mujer  Mejoramiento Colima                         \n",
       "164 2024 60 o más   Mujer  Mejoramiento Durango                        \n",
       "165 2024 60 o más   Mujer  Mejoramiento Guanajuato                     \n",
       "166 2024 60 o más   Mujer  Mejoramiento Guerrero                       \n",
       "167 2024 60 o más   Mujer  Mejoramiento Hidalgo                        \n",
       "168 2024 60 o más   Mujer  Mejoramiento Jalisco                        \n",
       "169 2024 60 o más   Mujer  Mejoramiento Michoacán de Ocampo            \n",
       "170 2024 60 o más   Mujer  Mejoramiento Morelos                        \n",
       "171 2024 60 o más   Mujer  Mejoramiento México                         \n",
       "172 2024 60 o más   Mujer  Mejoramiento Nayarit                        \n",
       "173 2024 60 o más   Mujer  Mejoramiento Nuevo León                     \n",
       "174 2024 60 o más   Mujer  Mejoramiento Oaxaca                         \n",
       "175 2024 60 o más   Mujer  Mejoramiento Puebla                         \n",
       "176 2024 60 o más   Mujer  Mejoramiento Querétaro                      \n",
       "177 2024 60 o más   Mujer  Mejoramiento Quintana Roo                   \n",
       "178 2024 60 o más   Mujer  Mejoramiento San Luis Potosí                \n",
       "179 2024 60 o más   Mujer  Mejoramiento Sinaloa                        \n",
       "180 2024 60 o más   Mujer  Mejoramiento Sonora                         \n",
       "181 2024 60 o más   Mujer  Mejoramiento Tabasco                        \n",
       "182 2024 60 o más   Mujer  Mejoramiento Tamaulipas                     \n",
       "183 2024 60 o más   Mujer  Mejoramiento Tlaxcala                       \n",
       "184 2024 60 o más   Mujer  Mejoramiento Veracruz de Ignacio de la Llave\n",
       "185 2024 60 o más   Mujer  Mejoramiento Yucatán                        \n",
       "186 2024 60 o más   Mujer  Mejoramiento Zacatecas                      \n",
       "    creditos monto    organismo\n",
       "1    34      1190000  CONAVI   \n",
       "2    68      2380000  CONAVI   \n",
       "3    87      3045000  CONAVI   \n",
       "4    34      1190000  CONAVI   \n",
       "5   191      6685000  CONAVI   \n",
       "6    79      2765000  CONAVI   \n",
       "7    32      1120000  CONAVI   \n",
       "8    40      1400000  CONAVI   \n",
       "9   200      7000000  CONAVI   \n",
       "10   25       875000  CONAVI   \n",
       "11  145      5075000  CONAVI   \n",
       "12   95      3325000  CONAVI   \n",
       "13  234      8190000  CONAVI   \n",
       "14  134      4690000  CONAVI   \n",
       "15   26       910000  CONAVI   \n",
       "16  113      3955000  CONAVI   \n",
       "17   69      2415000  CONAVI   \n",
       "18   54      1890000  CONAVI   \n",
       "19   63      2205000  CONAVI   \n",
       "20   92      3220000  CONAVI   \n",
       "21   53      1855000  CONAVI   \n",
       "22   49      1715000  CONAVI   \n",
       "23  162      5670000  CONAVI   \n",
       "24   76      2660000  CONAVI   \n",
       "25   70      2450000  CONAVI   \n",
       "26   84      2940000  CONAVI   \n",
       "27   70      2450000  CONAVI   \n",
       "28   38      1330000  CONAVI   \n",
       "29   81      2835000  CONAVI   \n",
       "30   75      2625000  CONAVI   \n",
       "⋮   ⋮        ⋮        ⋮        \n",
       "157 514      17990000 CONAVI   \n",
       "158 277       9695000 CONAVI   \n",
       "159 150       5250000 CONAVI   \n",
       "160 137       4795000 CONAVI   \n",
       "161 198       6930000 CONAVI   \n",
       "162 308      10780000 CONAVI   \n",
       "163 520      18200000 CONAVI   \n",
       "164 350      12250000 CONAVI   \n",
       "165 237       8295000 CONAVI   \n",
       "166 189       6615000 CONAVI   \n",
       "167 548      19180000 CONAVI   \n",
       "168 306      10710000 CONAVI   \n",
       "169 548      19180000 CONAVI   \n",
       "170 211       7385000 CONAVI   \n",
       "171 262       9170000 CONAVI   \n",
       "172 202       7070000 CONAVI   \n",
       "173 208       7280000 CONAVI   \n",
       "174 283       9905000 CONAVI   \n",
       "175 206       7210000 CONAVI   \n",
       "176 223       7805000 CONAVI   \n",
       "177 126       4410000 CONAVI   \n",
       "178 379      13265000 CONAVI   \n",
       "179 543      19005000 CONAVI   \n",
       "180 362      12670000 CONAVI   \n",
       "181 691      24185000 CONAVI   \n",
       "182 455      15925000 CONAVI   \n",
       "183  96       3360000 CONAVI   \n",
       "184 349      12215000 CONAVI   \n",
       "185 155       5425000 CONAVI   \n",
       "186 238       8330000 CONAVI   "
      ]
     },
     "metadata": {},
     "output_type": "display_data"
    }
   ],
   "execution_count": 58
  },
  {
   "metadata": {
    "ExecuteTime": {
     "end_time": "2024-05-31T04:30:33.192878Z",
     "start_time": "2024-05-31T04:30:33.060410Z"
    }
   },
   "cell_type": "code",
   "source": [
    "autoproduccion<-bind_rows(shf,fovissste,infonavit,conavi)\n",
    "print(sprintf(\"Total de financiamientos para autoproducción: %s\", format(sum(autoproduccion$creditos), big.mark = \",\")))\n",
    "#Guardar datos en excel\n",
    "openxlsx::write.xlsx(autoproduccion,\"autoproduccion_1T_2024.xlsx\")"
   ],
   "id": "3564c4a716a0eae3",
   "outputs": [
    {
     "name": "stdout",
     "output_type": "stream",
     "text": [
      "[1] \"Total de financiamientos para autoproducción: 134,181\"\n"
     ]
    }
   ],
   "execution_count": 59
  },
  {
   "metadata": {},
   "cell_type": "markdown",
   "source": "### Mapa",
   "id": "33eb932f88a76750"
  },
  {
   "metadata": {
    "ExecuteTime": {
     "end_time": "2024-05-31T04:32:35.490701Z",
     "start_time": "2024-05-31T04:32:35.480160Z"
    }
   },
   "cell_type": "code",
   "source": "paleta_mapa<- rev(c(\"#7e5f33\",\"#a27b42\",\"#bc955c\",\"#caac80\",\"#d9c4a4\"))",
   "id": "4db5204527fb7b78",
   "outputs": [],
   "execution_count": 68
  },
  {
   "metadata": {
    "ExecuteTime": {
     "end_time": "2024-05-31T04:30:33.651184Z",
     "start_time": "2024-05-31T04:30:33.211561Z"
    }
   },
   "cell_type": "code",
   "source": [
    "estados<-st_read(\"https://raw.githubusercontent.com/strotgen/mexico-leaflet/master/states.geojson\")%>%\n",
    "  #Renombrar Distrito Federal como Ciudad de México\n",
    "mutate(state_name=case_when(state_name==\"Distrito Federal\" ~ \"Ciudad de México\",\n",
    "TRUE ~ state_name))\n",
    "\n",
    "#Mapa de México sin estados\n",
    "mapamx<-estados%>%\n",
    "#Corregir geometría\n",
    "mutate(geometry = ms_simplify(geometry, keep_shapes = TRUE))%>%\n",
    "st_union()"
   ],
   "id": "6676cfc79c0f54b5",
   "outputs": [
    {
     "name": "stdout",
     "output_type": "stream",
     "text": [
      "Reading layer `states' from data source \n",
      "  `https://raw.githubusercontent.com/strotgen/mexico-leaflet/master/states.geojson' \n",
      "  using driver `GeoJSON'\n",
      "Simple feature collection with 32 features and 3 fields\n",
      "Geometry type: MULTIPOLYGON\n",
      "Dimension:     XY\n",
      "Bounding box:  xmin: -118.4 ymin: 14.5321 xmax: -86.72404 ymax: 32.71865\n",
      "Geodetic CRS:  WGS 84\n"
     ]
    }
   ],
   "execution_count": 61
  },
  {
   "metadata": {
    "ExecuteTime": {
     "end_time": "2024-05-31T04:30:33.678800Z",
     "start_time": "2024-05-31T04:30:33.654433Z"
    }
   },
   "cell_type": "code",
   "source": [
    "data_mapa<-autoproduccion%>%\n",
    "group_by(estado)%>%\n",
    "summarise(creditos=sum(creditos))\n",
    "data_mapa"
   ],
   "id": "20d80f9e70e59e0f",
   "outputs": [
    {
     "data": {
      "text/html": [
       "<table class=\"dataframe\">\n",
       "<caption>A tibble: 33 × 2</caption>\n",
       "<thead>\n",
       "\t<tr><th scope=col>estado</th><th scope=col>creditos</th></tr>\n",
       "\t<tr><th scope=col>&lt;chr&gt;</th><th scope=col>&lt;int&gt;</th></tr>\n",
       "</thead>\n",
       "<tbody>\n",
       "\t<tr><td>Aguascalientes                 </td><td> 2742</td></tr>\n",
       "\t<tr><td>Baja California                </td><td> 4679</td></tr>\n",
       "\t<tr><td>Baja California Sur            </td><td> 2746</td></tr>\n",
       "\t<tr><td>Campeche                       </td><td> 1851</td></tr>\n",
       "\t<tr><td>Chiapas                        </td><td> 6674</td></tr>\n",
       "\t<tr><td>Chihuahua                      </td><td> 4987</td></tr>\n",
       "\t<tr><td>Ciudad de México               </td><td> 4380</td></tr>\n",
       "\t<tr><td>Coahuila de Zaragoza           </td><td> 3523</td></tr>\n",
       "\t<tr><td>Colima                         </td><td> 2724</td></tr>\n",
       "\t<tr><td>Durango                        </td><td> 4874</td></tr>\n",
       "\t<tr><td>Guanajuato                     </td><td> 3854</td></tr>\n",
       "\t<tr><td>Guerrero                       </td><td> 2799</td></tr>\n",
       "\t<tr><td>Hidalgo                        </td><td> 4914</td></tr>\n",
       "\t<tr><td>Jalisco                        </td><td>10648</td></tr>\n",
       "\t<tr><td>Michoacán de Ocampo            </td><td> 4106</td></tr>\n",
       "\t<tr><td>Morelos                        </td><td> 2145</td></tr>\n",
       "\t<tr><td>México                         </td><td>12861</td></tr>\n",
       "\t<tr><td>Nayarit                        </td><td> 2092</td></tr>\n",
       "\t<tr><td>No distribuido                 </td><td>    0</td></tr>\n",
       "\t<tr><td>Nuevo León                     </td><td> 7048</td></tr>\n",
       "\t<tr><td>Oaxaca                         </td><td> 2719</td></tr>\n",
       "\t<tr><td>Puebla                         </td><td> 3967</td></tr>\n",
       "\t<tr><td>Querétaro                      </td><td> 2383</td></tr>\n",
       "\t<tr><td>Quintana Roo                   </td><td> 1515</td></tr>\n",
       "\t<tr><td>San Luis Potosí                </td><td> 4252</td></tr>\n",
       "\t<tr><td>Sinaloa                        </td><td> 3763</td></tr>\n",
       "\t<tr><td>Sonora                         </td><td> 3608</td></tr>\n",
       "\t<tr><td>Tabasco                        </td><td> 4983</td></tr>\n",
       "\t<tr><td>Tamaulipas                     </td><td> 5983</td></tr>\n",
       "\t<tr><td>Tlaxcala                       </td><td> 1571</td></tr>\n",
       "\t<tr><td>Veracruz de Ignacio de la Llave</td><td> 5528</td></tr>\n",
       "\t<tr><td>Yucatán                        </td><td> 2238</td></tr>\n",
       "\t<tr><td>Zacatecas                      </td><td> 2024</td></tr>\n",
       "</tbody>\n",
       "</table>\n"
      ],
      "text/markdown": "\nA tibble: 33 × 2\n\n| estado &lt;chr&gt; | creditos &lt;int&gt; |\n|---|---|\n| Aguascalientes                  |  2742 |\n| Baja California                 |  4679 |\n| Baja California Sur             |  2746 |\n| Campeche                        |  1851 |\n| Chiapas                         |  6674 |\n| Chihuahua                       |  4987 |\n| Ciudad de México                |  4380 |\n| Coahuila de Zaragoza            |  3523 |\n| Colima                          |  2724 |\n| Durango                         |  4874 |\n| Guanajuato                      |  3854 |\n| Guerrero                        |  2799 |\n| Hidalgo                         |  4914 |\n| Jalisco                         | 10648 |\n| Michoacán de Ocampo             |  4106 |\n| Morelos                         |  2145 |\n| México                          | 12861 |\n| Nayarit                         |  2092 |\n| No distribuido                  |     0 |\n| Nuevo León                      |  7048 |\n| Oaxaca                          |  2719 |\n| Puebla                          |  3967 |\n| Querétaro                       |  2383 |\n| Quintana Roo                    |  1515 |\n| San Luis Potosí                 |  4252 |\n| Sinaloa                         |  3763 |\n| Sonora                          |  3608 |\n| Tabasco                         |  4983 |\n| Tamaulipas                      |  5983 |\n| Tlaxcala                        |  1571 |\n| Veracruz de Ignacio de la Llave |  5528 |\n| Yucatán                         |  2238 |\n| Zacatecas                       |  2024 |\n\n",
      "text/latex": "A tibble: 33 × 2\n\\begin{tabular}{ll}\n estado & creditos\\\\\n <chr> & <int>\\\\\n\\hline\n\t Aguascalientes                  &  2742\\\\\n\t Baja California                 &  4679\\\\\n\t Baja California Sur             &  2746\\\\\n\t Campeche                        &  1851\\\\\n\t Chiapas                         &  6674\\\\\n\t Chihuahua                       &  4987\\\\\n\t Ciudad de México                &  4380\\\\\n\t Coahuila de Zaragoza            &  3523\\\\\n\t Colima                          &  2724\\\\\n\t Durango                         &  4874\\\\\n\t Guanajuato                      &  3854\\\\\n\t Guerrero                        &  2799\\\\\n\t Hidalgo                         &  4914\\\\\n\t Jalisco                         & 10648\\\\\n\t Michoacán de Ocampo             &  4106\\\\\n\t Morelos                         &  2145\\\\\n\t México                          & 12861\\\\\n\t Nayarit                         &  2092\\\\\n\t No distribuido                  &     0\\\\\n\t Nuevo León                      &  7048\\\\\n\t Oaxaca                          &  2719\\\\\n\t Puebla                          &  3967\\\\\n\t Querétaro                       &  2383\\\\\n\t Quintana Roo                    &  1515\\\\\n\t San Luis Potosí                 &  4252\\\\\n\t Sinaloa                         &  3763\\\\\n\t Sonora                          &  3608\\\\\n\t Tabasco                         &  4983\\\\\n\t Tamaulipas                      &  5983\\\\\n\t Tlaxcala                        &  1571\\\\\n\t Veracruz de Ignacio de la Llave &  5528\\\\\n\t Yucatán                         &  2238\\\\\n\t Zacatecas                       &  2024\\\\\n\\end{tabular}\n",
      "text/plain": [
       "   estado                          creditos\n",
       "1  Aguascalientes                   2742   \n",
       "2  Baja California                  4679   \n",
       "3  Baja California Sur              2746   \n",
       "4  Campeche                         1851   \n",
       "5  Chiapas                          6674   \n",
       "6  Chihuahua                        4987   \n",
       "7  Ciudad de México                 4380   \n",
       "8  Coahuila de Zaragoza             3523   \n",
       "9  Colima                           2724   \n",
       "10 Durango                          4874   \n",
       "11 Guanajuato                       3854   \n",
       "12 Guerrero                         2799   \n",
       "13 Hidalgo                          4914   \n",
       "14 Jalisco                         10648   \n",
       "15 Michoacán de Ocampo              4106   \n",
       "16 Morelos                          2145   \n",
       "17 México                          12861   \n",
       "18 Nayarit                          2092   \n",
       "19 No distribuido                      0   \n",
       "20 Nuevo León                       7048   \n",
       "21 Oaxaca                           2719   \n",
       "22 Puebla                           3967   \n",
       "23 Querétaro                        2383   \n",
       "24 Quintana Roo                     1515   \n",
       "25 San Luis Potosí                  4252   \n",
       "26 Sinaloa                          3763   \n",
       "27 Sonora                           3608   \n",
       "28 Tabasco                          4983   \n",
       "29 Tamaulipas                       5983   \n",
       "30 Tlaxcala                         1571   \n",
       "31 Veracruz de Ignacio de la Llave  5528   \n",
       "32 Yucatán                          2238   \n",
       "33 Zacatecas                        2024   "
      ]
     },
     "metadata": {},
     "output_type": "display_data"
    }
   ],
   "execution_count": 62
  },
  {
   "metadata": {
    "ExecuteTime": {
     "end_time": "2024-05-31T04:30:33.839235Z",
     "start_time": "2024-05-31T04:30:33.682051Z"
    }
   },
   "cell_type": "code",
   "source": [
    "ent<-estados%>%\n",
    "  left_join(data_mapa,by=c(\"state_name\"=\"estado\"))%>%\n",
    "mutate(creditos=creditos/1000)\n",
    "\n",
    "ent"
   ],
   "id": "748c378c7a26d0ae",
   "outputs": [
    {
     "name": "stderr",
     "output_type": "stream",
     "text": [
      "ERROR while rich displaying an object: Error in loadNamespace(x): there is no package called 'geojsonio'\n",
      "\n",
      "Traceback:\n",
      "1. tryCatch(withCallingHandlers({\n",
      " .     if (!mime %in% names(repr::mime2repr)) \n",
      " .         stop(\"No repr_* for mimetype \", mime, \" in repr::mime2repr\")\n",
      " .     rpr <- repr::mime2repr[[mime]](obj)\n",
      " .     if (is.null(rpr)) \n",
      " .         return(NULL)\n",
      " .     prepare_content(is.raw(rpr), rpr)\n",
      " . }, error = error_handler), error = outer_handler)\n",
      "2. tryCatchList(expr, classes, parentenv, handlers)\n",
      "3. tryCatchOne(expr, names, parentenv, handlers[[1L]])\n",
      "4. doTryCatch(return(expr), name, parentenv, handler)\n",
      "5. withCallingHandlers({\n",
      " .     if (!mime %in% names(repr::mime2repr)) \n",
      " .         stop(\"No repr_* for mimetype \", mime, \" in repr::mime2repr\")\n",
      " .     rpr <- repr::mime2repr[[mime]](obj)\n",
      " .     if (is.null(rpr)) \n",
      " .         return(NULL)\n",
      " .     prepare_content(is.raw(rpr), rpr)\n",
      " . }, error = error_handler)\n",
      "6. repr::mime2repr[[mime]](obj)\n",
      "7. repr_geojson.sf(obj)\n",
      "8. repr_geojson(geojsonio::geojson_list(obj), ...)\n",
      "9. loadNamespace(x)\n",
      "10. withRestarts(stop(cond), retry_loadNamespace = function() NULL)\n",
      "11. withOneRestart(expr, restarts[[1L]])\n",
      "12. doWithOneRestart(return(expr), restart)\n"
     ]
    },
    {
     "data": {
      "text/html": [
       "<table class=\"dataframe\">\n",
       "<caption>A sf: 32 × 5</caption>\n",
       "<thead>\n",
       "\t<tr><th></th><th scope=col>id</th><th scope=col>state_code</th><th scope=col>state_name</th><th scope=col>creditos</th><th scope=col>geometry</th></tr>\n",
       "\t<tr><th></th><th scope=col>&lt;chr&gt;</th><th scope=col>&lt;int&gt;</th><th scope=col>&lt;chr&gt;</th><th scope=col>&lt;dbl&gt;</th><th scope=col>&lt;MULTIPOLYGON [°]&gt;</th></tr>\n",
       "</thead>\n",
       "<tbody>\n",
       "\t<tr><th scope=row>1</th><td>NA</td><td> 9</td><td>Ciudad de México               </td><td> 4.380</td><td>MULTIPOLYGON (((-99.09052 1...</td></tr>\n",
       "\t<tr><th scope=row>2</th><td>NA</td><td>12</td><td>Guerrero                       </td><td> 2.799</td><td>MULTIPOLYGON (((-100.5388 1...</td></tr>\n",
       "\t<tr><th scope=row>3</th><td>NA</td><td>15</td><td>México                         </td><td>12.861</td><td>MULTIPOLYGON (((-99.85919 2...</td></tr>\n",
       "\t<tr><th scope=row>4</th><td>NA</td><td>17</td><td>Morelos                        </td><td> 2.145</td><td>MULTIPOLYGON (((-99.06199 1...</td></tr>\n",
       "\t<tr><th scope=row>5</th><td>NA</td><td>25</td><td>Sinaloa                        </td><td> 3.763</td><td>MULTIPOLYGON (((-108.4705 2...</td></tr>\n",
       "\t<tr><th scope=row>6</th><td>NA</td><td> 2</td><td>Baja California                </td><td> 4.679</td><td>MULTIPOLYGON (((-115.2138 2...</td></tr>\n",
       "\t<tr><th scope=row>7</th><td>NA</td><td>26</td><td>Sonora                         </td><td> 3.608</td><td>MULTIPOLYGON (((-112.5544 2...</td></tr>\n",
       "\t<tr><th scope=row>8</th><td>NA</td><td> 3</td><td>Baja California Sur            </td><td> 2.746</td><td>MULTIPOLYGON (((-109.8005 2...</td></tr>\n",
       "\t<tr><th scope=row>9</th><td>NA</td><td>32</td><td>Zacatecas                      </td><td> 2.024</td><td>MULTIPOLYGON (((-101.6003 2...</td></tr>\n",
       "\t<tr><th scope=row>10</th><td>NA</td><td>10</td><td>Durango                        </td><td> 4.874</td><td>MULTIPOLYGON (((-105.9318 2...</td></tr>\n",
       "\t<tr><th scope=row>11</th><td>NA</td><td> 8</td><td>Chihuahua                      </td><td> 4.987</td><td>MULTIPOLYGON (((-106.8678 3...</td></tr>\n",
       "\t<tr><th scope=row>12</th><td>NA</td><td> 6</td><td>Colima                         </td><td> 2.724</td><td>MULTIPOLYGON (((-114.7266 1...</td></tr>\n",
       "\t<tr><th scope=row>13</th><td>NA</td><td>18</td><td>Nayarit                        </td><td> 2.092</td><td>MULTIPOLYGON (((-106.2282 2...</td></tr>\n",
       "\t<tr><th scope=row>14</th><td>NA</td><td>16</td><td>Michoacán de Ocampo            </td><td> 4.106</td><td>MULTIPOLYGON (((-101.9465 2...</td></tr>\n",
       "\t<tr><th scope=row>15</th><td>NA</td><td>14</td><td>Jalisco                        </td><td>10.648</td><td>MULTIPOLYGON (((-103.926 22...</td></tr>\n",
       "\t<tr><th scope=row>16</th><td>NA</td><td> 7</td><td>Chiapas                        </td><td> 6.674</td><td>MULTIPOLYGON (((-91.81435 1...</td></tr>\n",
       "\t<tr><th scope=row>17</th><td>NA</td><td>27</td><td>Tabasco                        </td><td> 4.983</td><td>MULTIPOLYGON (((-92.33165 1...</td></tr>\n",
       "\t<tr><th scope=row>18</th><td>NA</td><td>20</td><td>Oaxaca                         </td><td> 2.719</td><td>MULTIPOLYGON (((-96.62826 1...</td></tr>\n",
       "\t<tr><th scope=row>19</th><td>NA</td><td>11</td><td>Guanajuato                     </td><td> 3.854</td><td>MULTIPOLYGON (((-101.2171 2...</td></tr>\n",
       "\t<tr><th scope=row>20</th><td>NA</td><td> 1</td><td>Aguascalientes                 </td><td> 2.742</td><td>MULTIPOLYGON (((-102.2533 2...</td></tr>\n",
       "\t<tr><th scope=row>21</th><td>NA</td><td>22</td><td>Querétaro                      </td><td> 2.383</td><td>MULTIPOLYGON (((-99.18847 2...</td></tr>\n",
       "\t<tr><th scope=row>22</th><td>NA</td><td>24</td><td>San Luis Potosí                </td><td> 4.252</td><td>MULTIPOLYGON (((-100.6038 2...</td></tr>\n",
       "\t<tr><th scope=row>23</th><td>NA</td><td>29</td><td>Tlaxcala                       </td><td> 1.571</td><td>MULTIPOLYGON (((-98.04006 1...</td></tr>\n",
       "\t<tr><th scope=row>24</th><td>NA</td><td>21</td><td>Puebla                         </td><td> 3.967</td><td>MULTIPOLYGON (((-97.75035 2...</td></tr>\n",
       "\t<tr><th scope=row>25</th><td>NA</td><td>13</td><td>Hidalgo                        </td><td> 4.914</td><td>MULTIPOLYGON (((-98.46735 2...</td></tr>\n",
       "\t<tr><th scope=row>26</th><td>NA</td><td>30</td><td>Veracruz de Ignacio de la Llave</td><td> 5.528</td><td>MULTIPOLYGON (((-97.97033 2...</td></tr>\n",
       "\t<tr><th scope=row>27</th><td>NA</td><td>19</td><td>Nuevo León                     </td><td> 7.048</td><td>MULTIPOLYGON (((-99.84334 2...</td></tr>\n",
       "\t<tr><th scope=row>28</th><td>NA</td><td> 5</td><td>Coahuila de Zaragoza           </td><td> 3.523</td><td>MULTIPOLYGON (((-100.8795 2...</td></tr>\n",
       "\t<tr><th scope=row>29</th><td>NA</td><td>28</td><td>Tamaulipas                     </td><td> 5.983</td><td>MULTIPOLYGON (((-99.49657 2...</td></tr>\n",
       "\t<tr><th scope=row>30</th><td>NA</td><td>31</td><td>Yucatán                        </td><td> 2.238</td><td>MULTIPOLYGON (((-87.86198 2...</td></tr>\n",
       "\t<tr><th scope=row>31</th><td>NA</td><td> 4</td><td>Campeche                       </td><td> 1.851</td><td>MULTIPOLYGON (((-90.38193 2...</td></tr>\n",
       "\t<tr><th scope=row>32</th><td>NA</td><td>23</td><td>Quintana Roo                   </td><td> 1.515</td><td>MULTIPOLYGON (((-87.36211 1...</td></tr>\n",
       "</tbody>\n",
       "</table>\n"
      ],
      "text/markdown": "\nA sf: 32 × 5\n\n| <!--/--> | id &lt;chr&gt; | state_code &lt;int&gt; | state_name &lt;chr&gt; | creditos &lt;dbl&gt; | geometry &lt;MULTIPOLYGON [°]&gt; |\n|---|---|---|---|---|---|\n| 1 | NA |  9 | Ciudad de México                |  4.380 | MULTIPOLYGON (((-99.09052 1... |\n| 2 | NA | 12 | Guerrero                        |  2.799 | MULTIPOLYGON (((-100.5388 1... |\n| 3 | NA | 15 | México                          | 12.861 | MULTIPOLYGON (((-99.85919 2... |\n| 4 | NA | 17 | Morelos                         |  2.145 | MULTIPOLYGON (((-99.06199 1... |\n| 5 | NA | 25 | Sinaloa                         |  3.763 | MULTIPOLYGON (((-108.4705 2... |\n| 6 | NA |  2 | Baja California                 |  4.679 | MULTIPOLYGON (((-115.2138 2... |\n| 7 | NA | 26 | Sonora                          |  3.608 | MULTIPOLYGON (((-112.5544 2... |\n| 8 | NA |  3 | Baja California Sur             |  2.746 | MULTIPOLYGON (((-109.8005 2... |\n| 9 | NA | 32 | Zacatecas                       |  2.024 | MULTIPOLYGON (((-101.6003 2... |\n| 10 | NA | 10 | Durango                         |  4.874 | MULTIPOLYGON (((-105.9318 2... |\n| 11 | NA |  8 | Chihuahua                       |  4.987 | MULTIPOLYGON (((-106.8678 3... |\n| 12 | NA |  6 | Colima                          |  2.724 | MULTIPOLYGON (((-114.7266 1... |\n| 13 | NA | 18 | Nayarit                         |  2.092 | MULTIPOLYGON (((-106.2282 2... |\n| 14 | NA | 16 | Michoacán de Ocampo             |  4.106 | MULTIPOLYGON (((-101.9465 2... |\n| 15 | NA | 14 | Jalisco                         | 10.648 | MULTIPOLYGON (((-103.926 22... |\n| 16 | NA |  7 | Chiapas                         |  6.674 | MULTIPOLYGON (((-91.81435 1... |\n| 17 | NA | 27 | Tabasco                         |  4.983 | MULTIPOLYGON (((-92.33165 1... |\n| 18 | NA | 20 | Oaxaca                          |  2.719 | MULTIPOLYGON (((-96.62826 1... |\n| 19 | NA | 11 | Guanajuato                      |  3.854 | MULTIPOLYGON (((-101.2171 2... |\n| 20 | NA |  1 | Aguascalientes                  |  2.742 | MULTIPOLYGON (((-102.2533 2... |\n| 21 | NA | 22 | Querétaro                       |  2.383 | MULTIPOLYGON (((-99.18847 2... |\n| 22 | NA | 24 | San Luis Potosí                 |  4.252 | MULTIPOLYGON (((-100.6038 2... |\n| 23 | NA | 29 | Tlaxcala                        |  1.571 | MULTIPOLYGON (((-98.04006 1... |\n| 24 | NA | 21 | Puebla                          |  3.967 | MULTIPOLYGON (((-97.75035 2... |\n| 25 | NA | 13 | Hidalgo                         |  4.914 | MULTIPOLYGON (((-98.46735 2... |\n| 26 | NA | 30 | Veracruz de Ignacio de la Llave |  5.528 | MULTIPOLYGON (((-97.97033 2... |\n| 27 | NA | 19 | Nuevo León                      |  7.048 | MULTIPOLYGON (((-99.84334 2... |\n| 28 | NA |  5 | Coahuila de Zaragoza            |  3.523 | MULTIPOLYGON (((-100.8795 2... |\n| 29 | NA | 28 | Tamaulipas                      |  5.983 | MULTIPOLYGON (((-99.49657 2... |\n| 30 | NA | 31 | Yucatán                         |  2.238 | MULTIPOLYGON (((-87.86198 2... |\n| 31 | NA |  4 | Campeche                        |  1.851 | MULTIPOLYGON (((-90.38193 2... |\n| 32 | NA | 23 | Quintana Roo                    |  1.515 | MULTIPOLYGON (((-87.36211 1... |\n\n",
      "text/latex": "A sf: 32 × 5\n\\begin{tabular}{r|lllll}\n  & id & state\\_code & state\\_name & creditos & geometry\\\\\n  & <chr> & <int> & <chr> & <dbl> & <MULTIPOLYGON {[}°{]}>\\\\\n\\hline\n\t1 & NA &  9 & Ciudad de México                &  4.380 & MULTIPOLYGON (((-99.09052 1...\\\\\n\t2 & NA & 12 & Guerrero                        &  2.799 & MULTIPOLYGON (((-100.5388 1...\\\\\n\t3 & NA & 15 & México                          & 12.861 & MULTIPOLYGON (((-99.85919 2...\\\\\n\t4 & NA & 17 & Morelos                         &  2.145 & MULTIPOLYGON (((-99.06199 1...\\\\\n\t5 & NA & 25 & Sinaloa                         &  3.763 & MULTIPOLYGON (((-108.4705 2...\\\\\n\t6 & NA &  2 & Baja California                 &  4.679 & MULTIPOLYGON (((-115.2138 2...\\\\\n\t7 & NA & 26 & Sonora                          &  3.608 & MULTIPOLYGON (((-112.5544 2...\\\\\n\t8 & NA &  3 & Baja California Sur             &  2.746 & MULTIPOLYGON (((-109.8005 2...\\\\\n\t9 & NA & 32 & Zacatecas                       &  2.024 & MULTIPOLYGON (((-101.6003 2...\\\\\n\t10 & NA & 10 & Durango                         &  4.874 & MULTIPOLYGON (((-105.9318 2...\\\\\n\t11 & NA &  8 & Chihuahua                       &  4.987 & MULTIPOLYGON (((-106.8678 3...\\\\\n\t12 & NA &  6 & Colima                          &  2.724 & MULTIPOLYGON (((-114.7266 1...\\\\\n\t13 & NA & 18 & Nayarit                         &  2.092 & MULTIPOLYGON (((-106.2282 2...\\\\\n\t14 & NA & 16 & Michoacán de Ocampo             &  4.106 & MULTIPOLYGON (((-101.9465 2...\\\\\n\t15 & NA & 14 & Jalisco                         & 10.648 & MULTIPOLYGON (((-103.926 22...\\\\\n\t16 & NA &  7 & Chiapas                         &  6.674 & MULTIPOLYGON (((-91.81435 1...\\\\\n\t17 & NA & 27 & Tabasco                         &  4.983 & MULTIPOLYGON (((-92.33165 1...\\\\\n\t18 & NA & 20 & Oaxaca                          &  2.719 & MULTIPOLYGON (((-96.62826 1...\\\\\n\t19 & NA & 11 & Guanajuato                      &  3.854 & MULTIPOLYGON (((-101.2171 2...\\\\\n\t20 & NA &  1 & Aguascalientes                  &  2.742 & MULTIPOLYGON (((-102.2533 2...\\\\\n\t21 & NA & 22 & Querétaro                       &  2.383 & MULTIPOLYGON (((-99.18847 2...\\\\\n\t22 & NA & 24 & San Luis Potosí                 &  4.252 & MULTIPOLYGON (((-100.6038 2...\\\\\n\t23 & NA & 29 & Tlaxcala                        &  1.571 & MULTIPOLYGON (((-98.04006 1...\\\\\n\t24 & NA & 21 & Puebla                          &  3.967 & MULTIPOLYGON (((-97.75035 2...\\\\\n\t25 & NA & 13 & Hidalgo                         &  4.914 & MULTIPOLYGON (((-98.46735 2...\\\\\n\t26 & NA & 30 & Veracruz de Ignacio de la Llave &  5.528 & MULTIPOLYGON (((-97.97033 2...\\\\\n\t27 & NA & 19 & Nuevo León                      &  7.048 & MULTIPOLYGON (((-99.84334 2...\\\\\n\t28 & NA &  5 & Coahuila de Zaragoza            &  3.523 & MULTIPOLYGON (((-100.8795 2...\\\\\n\t29 & NA & 28 & Tamaulipas                      &  5.983 & MULTIPOLYGON (((-99.49657 2...\\\\\n\t30 & NA & 31 & Yucatán                         &  2.238 & MULTIPOLYGON (((-87.86198 2...\\\\\n\t31 & NA &  4 & Campeche                        &  1.851 & MULTIPOLYGON (((-90.38193 2...\\\\\n\t32 & NA & 23 & Quintana Roo                    &  1.515 & MULTIPOLYGON (((-87.36211 1...\\\\\n\\end{tabular}\n",
      "text/plain": [
       "   id state_code state_name                      creditos\n",
       "1  NA  9         Ciudad de México                 4.380  \n",
       "2  NA 12         Guerrero                         2.799  \n",
       "3  NA 15         México                          12.861  \n",
       "4  NA 17         Morelos                          2.145  \n",
       "5  NA 25         Sinaloa                          3.763  \n",
       "6  NA  2         Baja California                  4.679  \n",
       "7  NA 26         Sonora                           3.608  \n",
       "8  NA  3         Baja California Sur              2.746  \n",
       "9  NA 32         Zacatecas                        2.024  \n",
       "10 NA 10         Durango                          4.874  \n",
       "11 NA  8         Chihuahua                        4.987  \n",
       "12 NA  6         Colima                           2.724  \n",
       "13 NA 18         Nayarit                          2.092  \n",
       "14 NA 16         Michoacán de Ocampo              4.106  \n",
       "15 NA 14         Jalisco                         10.648  \n",
       "16 NA  7         Chiapas                          6.674  \n",
       "17 NA 27         Tabasco                          4.983  \n",
       "18 NA 20         Oaxaca                           2.719  \n",
       "19 NA 11         Guanajuato                       3.854  \n",
       "20 NA  1         Aguascalientes                   2.742  \n",
       "21 NA 22         Querétaro                        2.383  \n",
       "22 NA 24         San Luis Potosí                  4.252  \n",
       "23 NA 29         Tlaxcala                         1.571  \n",
       "24 NA 21         Puebla                           3.967  \n",
       "25 NA 13         Hidalgo                          4.914  \n",
       "26 NA 30         Veracruz de Ignacio de la Llave  5.528  \n",
       "27 NA 19         Nuevo León                       7.048  \n",
       "28 NA  5         Coahuila de Zaragoza             3.523  \n",
       "29 NA 28         Tamaulipas                       5.983  \n",
       "30 NA 31         Yucatán                          2.238  \n",
       "31 NA  4         Campeche                         1.851  \n",
       "32 NA 23         Quintana Roo                     1.515  \n",
       "   geometry                      \n",
       "1  MULTIPOLYGON (((-99.09052 1...\n",
       "2  MULTIPOLYGON (((-100.5388 1...\n",
       "3  MULTIPOLYGON (((-99.85919 2...\n",
       "4  MULTIPOLYGON (((-99.06199 1...\n",
       "5  MULTIPOLYGON (((-108.4705 2...\n",
       "6  MULTIPOLYGON (((-115.2138 2...\n",
       "7  MULTIPOLYGON (((-112.5544 2...\n",
       "8  MULTIPOLYGON (((-109.8005 2...\n",
       "9  MULTIPOLYGON (((-101.6003 2...\n",
       "10 MULTIPOLYGON (((-105.9318 2...\n",
       "11 MULTIPOLYGON (((-106.8678 3...\n",
       "12 MULTIPOLYGON (((-114.7266 1...\n",
       "13 MULTIPOLYGON (((-106.2282 2...\n",
       "14 MULTIPOLYGON (((-101.9465 2...\n",
       "15 MULTIPOLYGON (((-103.926 22...\n",
       "16 MULTIPOLYGON (((-91.81435 1...\n",
       "17 MULTIPOLYGON (((-92.33165 1...\n",
       "18 MULTIPOLYGON (((-96.62826 1...\n",
       "19 MULTIPOLYGON (((-101.2171 2...\n",
       "20 MULTIPOLYGON (((-102.2533 2...\n",
       "21 MULTIPOLYGON (((-99.18847 2...\n",
       "22 MULTIPOLYGON (((-100.6038 2...\n",
       "23 MULTIPOLYGON (((-98.04006 1...\n",
       "24 MULTIPOLYGON (((-97.75035 2...\n",
       "25 MULTIPOLYGON (((-98.46735 2...\n",
       "26 MULTIPOLYGON (((-97.97033 2...\n",
       "27 MULTIPOLYGON (((-99.84334 2...\n",
       "28 MULTIPOLYGON (((-100.8795 2...\n",
       "29 MULTIPOLYGON (((-99.49657 2...\n",
       "30 MULTIPOLYGON (((-87.86198 2...\n",
       "31 MULTIPOLYGON (((-90.38193 2...\n",
       "32 MULTIPOLYGON (((-87.36211 1..."
      ]
     },
     "metadata": {},
     "output_type": "display_data"
    }
   ],
   "execution_count": 63
  },
  {
   "metadata": {
    "ExecuteTime": {
     "end_time": "2024-05-31T04:30:33.853255Z",
     "start_time": "2024-05-31T04:30:33.842367Z"
    }
   },
   "cell_type": "code",
   "source": "ent$acciones_cat <- cut(ent$creditos, breaks = 4)",
   "id": "a73ebcc443d8443b",
   "outputs": [],
   "execution_count": 64
  },
  {
   "metadata": {
    "ExecuteTime": {
     "end_time": "2024-05-31T04:33:48.243016Z",
     "start_time": "2024-05-31T04:33:47.711549Z"
    }
   },
   "cell_type": "code",
   "source": [
    "ent%>%\n",
    "  ggplot() +\n",
    "  # Capa con datos de los municipios\n",
    "  geom_sf(data=ent,aes(fill = acciones_cat),\n",
    "          colour = \"#1C00ff00\", size = 0.07) +\n",
    "  # Agrega título, subtítulo y fuente\n",
    "  labs(title = \"Financiamientos otorgados por los Organismos Nacionales de Vivienda\n",
    "para autoproducción, 2024\",\n",
    "       subtitle=\"(Miles de financiamientos al primer trimestre)\",\n",
    "       caption = \"\n",
    "Fuente: Reporte de acciones de vivienda de ONAVIS e INSUS.\") +\n",
    "  scale_fill_manual(\"Financiamientos (miles)\",values = paleta_mapa)+\n",
    "  guides(fill = guide_legend(reverse = TRUE)) +\n",
    "    theme_void()+\n",
    "  theme(plot.title = element_text(hjust = 0, size=30,face=\"bold\"),\n",
    "        plot.subtitle = element_text(hjust = 0, size=20, face=\"italic\"),\n",
    "        plot.caption = element_text(hjust = 0,size=15),\n",
    "        legend.position=\"right\",\n",
    "        #Fuente y tamaño\n",
    "        text=element_text(\"pop\",\n",
    "                          size=20))\n",
    "\n",
    "ggsave(\"mapa_autoprod.png\",height = 10,width = 20, units=\"in\",dpi=100, bg='white')\n",
    "ggsave(\"mapa_autoprod.svg\",height = 10,width = 20, units=\"in\",dpi=100, bg='white')\n",
    "\n"
   ],
   "id": "17531e33fc10fd5e",
   "outputs": [
    {
     "data": {
      "text/plain": [
       "plot without title"
      ],
      "image/png": "[encoded data removed]"
     },
     "metadata": {
      "image/png": {
       "width": 420,
       "height": 420
      }
     },
     "output_type": "display_data"
    }
   ],
   "execution_count": 71
  }
 ],
 "metadata": {
  "kernelspec": {
   "display_name": "R",
   "language": "R",
   "name": "ir"
  },
  "language_info": {
   "codemirror_mode": {
    "name": "ipython",
    "version": 2
   },
   "file_extension": ".py",
   "mimetype": "text/x-python",
   "name": "python",
   "nbconvert_exporter": "python",
   "pygments_lexer": "ipython2",
   "version": "2.7.6"
  }
 },
 "nbformat": 4,
 "nbformat_minor": 5
}
