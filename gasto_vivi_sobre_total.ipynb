{
 "cells": [
  {
   "cell_type": "code",
   "id": "initial_id",
   "metadata": {
    "collapsed": true,
    "ExecuteTime": {
     "end_time": "2024-05-30T19:01:17.790951Z",
     "start_time": "2024-05-30T19:01:17.759547Z"
    }
   },
   "source": [
    "##Borrar datos del entorno\n",
    "rm(list=ls())"
   ],
   "outputs": [],
   "execution_count": 1
  },
  {
   "metadata": {
    "ExecuteTime": {
     "end_time": "2024-05-30T19:01:17.835906Z",
     "start_time": "2024-05-30T19:01:17.795274Z"
    }
   },
   "cell_type": "code",
   "source": [
    "##Crear folders de almacenamiento\n",
    "dir.create(\"microdatos\", showWarnings = F)"
   ],
   "id": "6521beabd30620ae",
   "outputs": [],
   "execution_count": 2
  },
  {
   "metadata": {
    "ExecuteTime": {
     "end_time": "2024-05-30T19:01:20.192715Z",
     "start_time": "2024-05-30T19:01:17.840305Z"
    }
   },
   "cell_type": "code",
   "source": [
    "if(!require('pacman')) install.packages('pacman')\n",
    "pacman::p_load(tidyverse,srvyr,janitor,survey)"
   ],
   "id": "f5decfff22c5e0bd",
   "outputs": [
    {
     "name": "stderr",
     "output_type": "stream",
     "text": [
      "Loading required package: pacman\n",
      "\n"
     ]
    }
   ],
   "execution_count": 3
  },
  {
   "metadata": {
    "ExecuteTime": {
     "end_time": "2024-05-30T19:01:20.207210Z",
     "start_time": "2024-05-30T19:01:20.196188Z"
    }
   },
   "cell_type": "code",
   "source": [
    "# Función para descargar y descomprimir un archivo con timeout\n",
    "download_and_unzip <- function(url, destination=\"microdatos\") {\n",
    "  tryCatch({\n",
    "    # Descargar el archivo con timeout\n",
    "    download.file(url, destfile = paste0(destination, \"/\", basename(url)), mode = \"wb\", timeout = 10000)\n",
    "\n",
    "    # Descomprimir el archivo\n",
    "    unzip(paste0(destination, \"/\", basename(url)), exdir = destination)\n",
    "\n",
    "    # Eliminar el archivo comprimido después de descomprimirlo\n",
    "    unlink(paste0(destination, \"/\", basename(url)))\n",
    "\n",
    "    message(paste(\"Descarga y descompresión exitosas para\", basename(url)))\n",
    "  }, error = function(e) {\n",
    "    warning(paste(\"Error al descargar o descomprimir\", basename(url), \":\", conditionMessage(e)))\n",
    "  })\n",
    "}"
   ],
   "id": "bec52e3591c37883",
   "outputs": [],
   "execution_count": 4
  },
  {
   "metadata": {
    "ExecuteTime": {
     "end_time": "2024-05-30T19:18:49.011348Z",
     "start_time": "2024-05-30T19:18:35.636667Z"
    }
   },
   "cell_type": "code",
   "source": [
    "#Uilizar la tabla de concentrado hogar\n",
    "download_and_unzip(\"https://www.inegi.org.mx/contenidos/programas/enigh/nc/2022/microdatos/enigh2022_ns_concentradohogar_csv.zip\")"
   ],
   "id": "bede0f9349045684",
   "outputs": [
    {
     "name": "stderr",
     "output_type": "stream",
     "text": [
      "Descarga y descompresión exitosas para enigh2022_ns_concentradohogar_csv.zip\n",
      "\n"
     ]
    }
   ],
   "execution_count": 55
  },
  {
   "metadata": {
    "ExecuteTime": {
     "end_time": "2024-05-30T19:18:52.544907Z",
     "start_time": "2024-05-30T19:18:49.015237Z"
    }
   },
   "cell_type": "code",
   "source": [
    "concentrado<-read.csv(\"microdatos/concentradohogar.csv\")%>%\n",
    "  janitor::clean_names()%>%\n",
    "    #Crear deciles de hogares por ingreso\n",
    "    mutate(deciles=ntile(ing_cor,10))"
   ],
   "id": "e808e531ece3a8f9",
   "outputs": [],
   "execution_count": 56
  },
  {
   "metadata": {
    "ExecuteTime": {
     "end_time": "2024-05-30T19:18:52.958055Z",
     "start_time": "2024-05-30T19:18:52.548599Z"
    }
   },
   "cell_type": "code",
   "source": [
    "#Diseño muestral\n",
    "\n",
    "dm<-concentrado%>%\n",
    "  as_survey(weights=factor, strata=est_dis, ids=upm)"
   ],
   "id": "9bd8d16931d4fdc0",
   "outputs": [],
   "execution_count": 57
  },
  {
   "metadata": {
    "ExecuteTime": {
     "end_time": "2024-05-30T19:18:54.145298Z",
     "start_time": "2024-05-30T19:18:52.961812Z"
    }
   },
   "cell_type": "code",
   "source": [
    "#Deciles de hogares por ingreso\n",
    "dm%>%\n",
    "  group_by(deciles)%>%\n",
    "  summarise(hogares=survey_total(),\n",
    "            gasto=survey_total(gasto_mon),\n",
    "    vivienda=survey_total(vivienda))%>%\n",
    "    #Quitar lo que termine con _se\n",
    "    select(-ends_with(\"_se\"))%>%\n",
    "#Dejar los primeros cinco deciles\n",
    "    filter(deciles<=5)%>%\n",
    "    janitor::adorn_totals(\"row\")%>%\n",
    "    #Porcentajes\n",
    "    mutate(pct_vivi=vivienda/gasto*100)"
   ],
   "id": "464b1c6facf2784a",
   "outputs": [
    {
     "data": {
      "text/html": [
       "<table class=\"dataframe\">\n",
       "<caption>A tabyl: 6 × 5</caption>\n",
       "<thead>\n",
       "\t<tr><th scope=col>deciles</th><th scope=col>hogares</th><th scope=col>gasto</th><th scope=col>vivienda</th><th scope=col>pct_vivi</th></tr>\n",
       "\t<tr><th scope=col>&lt;chr&gt;</th><th scope=col>&lt;dbl&gt;</th><th scope=col>&lt;dbl&gt;</th><th scope=col>&lt;dbl&gt;</th><th scope=col>&lt;dbl&gt;</th></tr>\n",
       "</thead>\n",
       "<tbody>\n",
       "\t<tr><td>1    </td><td> 3491552</td><td> 50842051082</td><td> 5543902918</td><td>10.90417</td></tr>\n",
       "\t<tr><td>2    </td><td> 3633525</td><td> 68296919609</td><td> 7489329172</td><td>10.96584</td></tr>\n",
       "\t<tr><td>3    </td><td> 3615465</td><td> 83040523764</td><td> 9130705048</td><td>10.99548</td></tr>\n",
       "\t<tr><td>4    </td><td> 3716750</td><td> 99477127242</td><td>10552076603</td><td>10.60754</td></tr>\n",
       "\t<tr><td>5    </td><td> 3745395</td><td>112733035629</td><td>11720093975</td><td>10.39633</td></tr>\n",
       "\t<tr><td>Total</td><td>18202687</td><td>414389657327</td><td>44436107716</td><td>10.72327</td></tr>\n",
       "</tbody>\n",
       "</table>\n"
      ],
      "text/markdown": "\nA tabyl: 6 × 5\n\n| deciles &lt;chr&gt; | hogares &lt;dbl&gt; | gasto &lt;dbl&gt; | vivienda &lt;dbl&gt; | pct_vivi &lt;dbl&gt; |\n|---|---|---|---|---|\n| 1     |  3491552 |  50842051082 |  5543902918 | 10.90417 |\n| 2     |  3633525 |  68296919609 |  7489329172 | 10.96584 |\n| 3     |  3615465 |  83040523764 |  9130705048 | 10.99548 |\n| 4     |  3716750 |  99477127242 | 10552076603 | 10.60754 |\n| 5     |  3745395 | 112733035629 | 11720093975 | 10.39633 |\n| Total | 18202687 | 414389657327 | 44436107716 | 10.72327 |\n\n",
      "text/latex": "A tabyl: 6 × 5\n\\begin{tabular}{lllll}\n deciles & hogares & gasto & vivienda & pct\\_vivi\\\\\n <chr> & <dbl> & <dbl> & <dbl> & <dbl>\\\\\n\\hline\n\t 1     &  3491552 &  50842051082 &  5543902918 & 10.90417\\\\\n\t 2     &  3633525 &  68296919609 &  7489329172 & 10.96584\\\\\n\t 3     &  3615465 &  83040523764 &  9130705048 & 10.99548\\\\\n\t 4     &  3716750 &  99477127242 & 10552076603 & 10.60754\\\\\n\t 5     &  3745395 & 112733035629 & 11720093975 & 10.39633\\\\\n\t Total & 18202687 & 414389657327 & 44436107716 & 10.72327\\\\\n\\end{tabular}\n",
      "text/plain": [
       "  deciles hogares  gasto        vivienda    pct_vivi\n",
       "1 1        3491552  50842051082  5543902918 10.90417\n",
       "2 2        3633525  68296919609  7489329172 10.96584\n",
       "3 3        3615465  83040523764  9130705048 10.99548\n",
       "4 4        3716750  99477127242 10552076603 10.60754\n",
       "5 5        3745395 112733035629 11720093975 10.39633\n",
       "6 Total   18202687 414389657327 44436107716 10.72327"
      ]
     },
     "metadata": {},
     "output_type": "display_data"
    }
   ],
   "execution_count": 58
  }
 ],
 "metadata": {
  "kernelspec": {
   "display_name": "R",
   "language": "R",
   "name": "ir"
  },
  "language_info": {
   "codemirror_mode": {
    "name": "ipython",
    "version": 2
   },
   "file_extension": ".py",
   "mimetype": "text/x-python",
   "name": "python",
   "nbconvert_exporter": "python",
   "pygments_lexer": "ipython2",
   "version": "2.7.6"
  }
 },
 "nbformat": 4,
 "nbformat_minor": 5
}
